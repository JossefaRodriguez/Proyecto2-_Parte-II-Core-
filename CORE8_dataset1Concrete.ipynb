{
  "nbformat": 4,
  "nbformat_minor": 0,
  "metadata": {
    "colab": {
      "provenance": [],
      "collapsed_sections": [
        "GvhrTNXwLo4h",
        "IqXWHZti_l77",
        "FLUAsymUBhKA"
      ],
      "authorship_tag": "ABX9TyPkII+gP3IPQ1jsT3fpL6e9",
      "include_colab_link": true
    },
    "kernelspec": {
      "name": "python3",
      "display_name": "Python 3"
    },
    "language_info": {
      "name": "python"
    }
  },
  "cells": [
    {
      "cell_type": "markdown",
      "metadata": {
        "id": "view-in-github",
        "colab_type": "text"
      },
      "source": [
        "<a href=\"https://colab.research.google.com/github/JossefaRodriguez/Proyecto2-_Parte-II-Core-/blob/main/CORE8_dataset1Concrete.ipynb\" target=\"_parent\"><img src=\"https://colab.research.google.com/assets/colab-badge.svg\" alt=\"Open In Colab\"/></a>"
      ]
    },
    {
      "cell_type": "markdown",
      "source": [
        "# Proyecto 2: Análisis Inicial y Selección de Problema"
      ],
      "metadata": {
        "id": "haiIoMeMhGFq"
      }
    },
    {
      "cell_type": "markdown",
      "source": [
        "## Búsqueda de Conjuntos de Datos"
      ],
      "metadata": {
        "id": "CnClfxRKhOoB"
      }
    },
    {
      "cell_type": "code",
      "execution_count": 95,
      "metadata": {
        "id": "AdYMUy7FQLWx"
      },
      "outputs": [],
      "source": [
        "# Importar librerias.\n",
        "import numpy as np\n",
        "import pandas as pd\n",
        "import matplotlib.pyplot as plt\n",
        "import seaborn as sns\n",
        "from sklearn.pipeline import Pipeline\n",
        "from sklearn.preprocessing import StandardScaler\n",
        "from sklearn.ensemble import RandomForestRegressor\n",
        "from sklearn.model_selection import train_test_split\n",
        "from sklearn.neighbors import KNeighborsRegressor\n",
        "from sklearn.linear_model import LinearRegression\n",
        "from sklearn.metrics import mean_squared_error, r2_score\n",
        "from sklearn.model_selection import train_test_split\n",
        "from sklearn.model_selection import cross_val_score\n",
        "from sklearn.model_selection import GridSearchCV\n",
        "from sklearn.linear_model import Ridge\n",
        "from sklearn.model_selection import RandomizedSearchCV\n",
        "import optuna"
      ]
    },
    {
      "cell_type": "code",
      "source": [
        "# Conectar con Drive\n",
        "from google.colab import drive\n",
        "drive.mount('/content/drive')"
      ],
      "metadata": {
        "colab": {
          "base_uri": "https://localhost:8080/"
        },
        "id": "QdRxyIhzQcQ7",
        "outputId": "238b7c27-6dad-4c93-9a36-3e0a1d5eb9a8"
      },
      "execution_count": 2,
      "outputs": [
        {
          "output_type": "stream",
          "name": "stdout",
          "text": [
            "Mounted at /content/drive\n"
          ]
        }
      ]
    },
    {
      "cell_type": "code",
      "source": [
        "# Importar el DataFrame.\n",
        "path = \"/content/drive/MyDrive/Colab Notebooks/DataScience BootCamp/Machine Learning/CORES/CORE8/concrete_data_.csv\"\n",
        "df = pd.read_csv(path)"
      ],
      "metadata": {
        "id": "U0lHFzibQebr"
      },
      "execution_count": 3,
      "outputs": []
    },
    {
      "cell_type": "code",
      "source": [
        "df.info()"
      ],
      "metadata": {
        "colab": {
          "base_uri": "https://localhost:8080/"
        },
        "id": "QrCSEAvoRYBD",
        "outputId": "b94a6937-702f-456a-b889-e60ca1e7bb5b"
      },
      "execution_count": 4,
      "outputs": [
        {
          "output_type": "stream",
          "name": "stdout",
          "text": [
            "<class 'pandas.core.frame.DataFrame'>\n",
            "RangeIndex: 1030 entries, 0 to 1029\n",
            "Data columns (total 9 columns):\n",
            " #   Column                         Non-Null Count  Dtype  \n",
            "---  ------                         --------------  -----  \n",
            " 0   cement                         1030 non-null   float64\n",
            " 1   blast_furnace_slag             1030 non-null   float64\n",
            " 2   fly_ash                        1030 non-null   float64\n",
            " 3   water                          1030 non-null   float64\n",
            " 4   superplasticizer               1030 non-null   float64\n",
            " 5   coarse_aggregate               1030 non-null   float64\n",
            " 6   fine_aggregate                 1030 non-null   float64\n",
            " 7   age                            1030 non-null   int64  \n",
            " 8   concrete_compressive_strength  1030 non-null   float64\n",
            "dtypes: float64(8), int64(1)\n",
            "memory usage: 72.6 KB\n"
          ]
        }
      ]
    },
    {
      "cell_type": "markdown",
      "source": [
        "- Se utilizará el datset Concrete Compressive Strength Dataset\n",
        "- Fuente: Kaggle – Elikplim\n",
        "- Tamaño: 1,030 registros, 9 columnas\n",
        "- Variables:\n",
        "    Cement, Water, Superplasticizer, Fly Ash, Coarse Aggregate, Fine Aggregate, Age: edad del concreto, Concrete compressive strength: resistencia en MPa (variable objetivo)"
      ],
      "metadata": {
        "id": "PAPSH-CYCVsw"
      }
    },
    {
      "cell_type": "code",
      "source": [
        "# Se utiliza lower y replace para limpiar.\n",
        "df.columns = df.columns.str.lower().str.replace(\" \", \"_\")"
      ],
      "metadata": {
        "id": "Vc2k6B_vDKxw"
      },
      "execution_count": 5,
      "outputs": []
    },
    {
      "cell_type": "code",
      "source": [
        "df.info()"
      ],
      "metadata": {
        "colab": {
          "base_uri": "https://localhost:8080/"
        },
        "id": "9xYTmdzFRg5L",
        "outputId": "c58f2bec-b520-41a6-e614-15cde000e82f"
      },
      "execution_count": 6,
      "outputs": [
        {
          "output_type": "stream",
          "name": "stdout",
          "text": [
            "<class 'pandas.core.frame.DataFrame'>\n",
            "RangeIndex: 1030 entries, 0 to 1029\n",
            "Data columns (total 9 columns):\n",
            " #   Column                         Non-Null Count  Dtype  \n",
            "---  ------                         --------------  -----  \n",
            " 0   cement                         1030 non-null   float64\n",
            " 1   blast_furnace_slag             1030 non-null   float64\n",
            " 2   fly_ash                        1030 non-null   float64\n",
            " 3   water                          1030 non-null   float64\n",
            " 4   superplasticizer               1030 non-null   float64\n",
            " 5   coarse_aggregate               1030 non-null   float64\n",
            " 6   fine_aggregate_                1030 non-null   float64\n",
            " 7   age                            1030 non-null   int64  \n",
            " 8   concrete_compressive_strength  1030 non-null   float64\n",
            "dtypes: float64(8), int64(1)\n",
            "memory usage: 72.6 KB\n"
          ]
        }
      ]
    },
    {
      "cell_type": "markdown",
      "source": [
        "### Análisis Exploratorio de Datos (EDA) Inicial"
      ],
      "metadata": {
        "id": "HHTiO2g8Rn1T"
      }
    },
    {
      "cell_type": "code",
      "source": [
        "# comenzaremos identificando posibles valores nulos\n",
        "df.isna().sum()"
      ],
      "metadata": {
        "colab": {
          "base_uri": "https://localhost:8080/",
          "height": 366
        },
        "id": "pwMrllVsRorD",
        "outputId": "72380d80-b7f8-4b54-a76e-3a60d9b6f1f0"
      },
      "execution_count": 7,
      "outputs": [
        {
          "output_type": "execute_result",
          "data": {
            "text/plain": [
              "cement                           0\n",
              "blast_furnace_slag               0\n",
              "fly_ash                          0\n",
              "water                            0\n",
              "superplasticizer                 0\n",
              "coarse_aggregate                 0\n",
              "fine_aggregate_                  0\n",
              "age                              0\n",
              "concrete_compressive_strength    0\n",
              "dtype: int64"
            ],
            "text/html": [
              "<div>\n",
              "<style scoped>\n",
              "    .dataframe tbody tr th:only-of-type {\n",
              "        vertical-align: middle;\n",
              "    }\n",
              "\n",
              "    .dataframe tbody tr th {\n",
              "        vertical-align: top;\n",
              "    }\n",
              "\n",
              "    .dataframe thead th {\n",
              "        text-align: right;\n",
              "    }\n",
              "</style>\n",
              "<table border=\"1\" class=\"dataframe\">\n",
              "  <thead>\n",
              "    <tr style=\"text-align: right;\">\n",
              "      <th></th>\n",
              "      <th>0</th>\n",
              "    </tr>\n",
              "  </thead>\n",
              "  <tbody>\n",
              "    <tr>\n",
              "      <th>cement</th>\n",
              "      <td>0</td>\n",
              "    </tr>\n",
              "    <tr>\n",
              "      <th>blast_furnace_slag</th>\n",
              "      <td>0</td>\n",
              "    </tr>\n",
              "    <tr>\n",
              "      <th>fly_ash</th>\n",
              "      <td>0</td>\n",
              "    </tr>\n",
              "    <tr>\n",
              "      <th>water</th>\n",
              "      <td>0</td>\n",
              "    </tr>\n",
              "    <tr>\n",
              "      <th>superplasticizer</th>\n",
              "      <td>0</td>\n",
              "    </tr>\n",
              "    <tr>\n",
              "      <th>coarse_aggregate</th>\n",
              "      <td>0</td>\n",
              "    </tr>\n",
              "    <tr>\n",
              "      <th>fine_aggregate_</th>\n",
              "      <td>0</td>\n",
              "    </tr>\n",
              "    <tr>\n",
              "      <th>age</th>\n",
              "      <td>0</td>\n",
              "    </tr>\n",
              "    <tr>\n",
              "      <th>concrete_compressive_strength</th>\n",
              "      <td>0</td>\n",
              "    </tr>\n",
              "  </tbody>\n",
              "</table>\n",
              "</div><br><label><b>dtype:</b> int64</label>"
            ]
          },
          "metadata": {},
          "execution_count": 7
        }
      ]
    },
    {
      "cell_type": "code",
      "source": [
        "# verificaremos valores duplicados dentro del dataset\n",
        "df.duplicated().sum()"
      ],
      "metadata": {
        "colab": {
          "base_uri": "https://localhost:8080/"
        },
        "id": "OIwvX-I4RsAj",
        "outputId": "567393f1-bfd6-4152-8a4c-6637172ffd10"
      },
      "execution_count": 8,
      "outputs": [
        {
          "output_type": "execute_result",
          "data": {
            "text/plain": [
              "np.int64(25)"
            ]
          },
          "metadata": {},
          "execution_count": 8
        }
      ]
    },
    {
      "cell_type": "code",
      "source": [
        "# Se toma una muestra aleatoria del dataset para conocer el comportamiento de algunos datos\n",
        "df.sample(10)"
      ],
      "metadata": {
        "colab": {
          "base_uri": "https://localhost:8080/",
          "height": 362
        },
        "id": "52V0-_0NRv0T",
        "outputId": "594d271d-40b2-4269-a30f-08e0b35a4f9e"
      },
      "execution_count": 9,
      "outputs": [
        {
          "output_type": "execute_result",
          "data": {
            "text/plain": [
              "     cement  blast_furnace_slag  fly_ash  water  superplasticizer  \\\n",
              "617   254.0                 0.0      0.0  198.0               0.0   \n",
              "705   122.6               183.9      0.0  203.5               0.0   \n",
              "595   186.2               124.1      0.0  185.7               0.0   \n",
              "948   153.1               145.0    113.0  178.5               8.0   \n",
              "645   203.5               305.3      0.0  203.5               0.0   \n",
              "675   183.9               122.6      0.0  203.5               0.0   \n",
              "792   349.0                 0.0      0.0  192.0               0.0   \n",
              "767   385.0                 0.0      0.0  186.0               0.0   \n",
              "128   401.8                94.7      0.0  147.4              11.4   \n",
              "485   387.0                20.0     94.0  157.0              14.3   \n",
              "\n",
              "     coarse_aggregate  fine_aggregate_  age  concrete_compressive_strength  \n",
              "617             968.0            863.0    3                           9.31  \n",
              "705             958.2            800.1    3                           3.32  \n",
              "595            1083.4            764.3   28                          17.60  \n",
              "948             867.2            824.0   28                          26.23  \n",
              "645             963.4            630.0    7                          19.54  \n",
              "675             959.2            800.0   90                          32.53  \n",
              "792            1047.0            806.0  360                          42.13  \n",
              "767             966.0            763.0   28                          31.35  \n",
              "128             946.8            852.1   28                          68.50  \n",
              "485             938.0            845.0   28                          50.24  "
            ],
            "text/html": [
              "\n",
              "  <div id=\"df-60038bb0-0db7-4880-b42c-6de7191466a5\" class=\"colab-df-container\">\n",
              "    <div>\n",
              "<style scoped>\n",
              "    .dataframe tbody tr th:only-of-type {\n",
              "        vertical-align: middle;\n",
              "    }\n",
              "\n",
              "    .dataframe tbody tr th {\n",
              "        vertical-align: top;\n",
              "    }\n",
              "\n",
              "    .dataframe thead th {\n",
              "        text-align: right;\n",
              "    }\n",
              "</style>\n",
              "<table border=\"1\" class=\"dataframe\">\n",
              "  <thead>\n",
              "    <tr style=\"text-align: right;\">\n",
              "      <th></th>\n",
              "      <th>cement</th>\n",
              "      <th>blast_furnace_slag</th>\n",
              "      <th>fly_ash</th>\n",
              "      <th>water</th>\n",
              "      <th>superplasticizer</th>\n",
              "      <th>coarse_aggregate</th>\n",
              "      <th>fine_aggregate_</th>\n",
              "      <th>age</th>\n",
              "      <th>concrete_compressive_strength</th>\n",
              "    </tr>\n",
              "  </thead>\n",
              "  <tbody>\n",
              "    <tr>\n",
              "      <th>617</th>\n",
              "      <td>254.0</td>\n",
              "      <td>0.0</td>\n",
              "      <td>0.0</td>\n",
              "      <td>198.0</td>\n",
              "      <td>0.0</td>\n",
              "      <td>968.0</td>\n",
              "      <td>863.0</td>\n",
              "      <td>3</td>\n",
              "      <td>9.31</td>\n",
              "    </tr>\n",
              "    <tr>\n",
              "      <th>705</th>\n",
              "      <td>122.6</td>\n",
              "      <td>183.9</td>\n",
              "      <td>0.0</td>\n",
              "      <td>203.5</td>\n",
              "      <td>0.0</td>\n",
              "      <td>958.2</td>\n",
              "      <td>800.1</td>\n",
              "      <td>3</td>\n",
              "      <td>3.32</td>\n",
              "    </tr>\n",
              "    <tr>\n",
              "      <th>595</th>\n",
              "      <td>186.2</td>\n",
              "      <td>124.1</td>\n",
              "      <td>0.0</td>\n",
              "      <td>185.7</td>\n",
              "      <td>0.0</td>\n",
              "      <td>1083.4</td>\n",
              "      <td>764.3</td>\n",
              "      <td>28</td>\n",
              "      <td>17.60</td>\n",
              "    </tr>\n",
              "    <tr>\n",
              "      <th>948</th>\n",
              "      <td>153.1</td>\n",
              "      <td>145.0</td>\n",
              "      <td>113.0</td>\n",
              "      <td>178.5</td>\n",
              "      <td>8.0</td>\n",
              "      <td>867.2</td>\n",
              "      <td>824.0</td>\n",
              "      <td>28</td>\n",
              "      <td>26.23</td>\n",
              "    </tr>\n",
              "    <tr>\n",
              "      <th>645</th>\n",
              "      <td>203.5</td>\n",
              "      <td>305.3</td>\n",
              "      <td>0.0</td>\n",
              "      <td>203.5</td>\n",
              "      <td>0.0</td>\n",
              "      <td>963.4</td>\n",
              "      <td>630.0</td>\n",
              "      <td>7</td>\n",
              "      <td>19.54</td>\n",
              "    </tr>\n",
              "    <tr>\n",
              "      <th>675</th>\n",
              "      <td>183.9</td>\n",
              "      <td>122.6</td>\n",
              "      <td>0.0</td>\n",
              "      <td>203.5</td>\n",
              "      <td>0.0</td>\n",
              "      <td>959.2</td>\n",
              "      <td>800.0</td>\n",
              "      <td>90</td>\n",
              "      <td>32.53</td>\n",
              "    </tr>\n",
              "    <tr>\n",
              "      <th>792</th>\n",
              "      <td>349.0</td>\n",
              "      <td>0.0</td>\n",
              "      <td>0.0</td>\n",
              "      <td>192.0</td>\n",
              "      <td>0.0</td>\n",
              "      <td>1047.0</td>\n",
              "      <td>806.0</td>\n",
              "      <td>360</td>\n",
              "      <td>42.13</td>\n",
              "    </tr>\n",
              "    <tr>\n",
              "      <th>767</th>\n",
              "      <td>385.0</td>\n",
              "      <td>0.0</td>\n",
              "      <td>0.0</td>\n",
              "      <td>186.0</td>\n",
              "      <td>0.0</td>\n",
              "      <td>966.0</td>\n",
              "      <td>763.0</td>\n",
              "      <td>28</td>\n",
              "      <td>31.35</td>\n",
              "    </tr>\n",
              "    <tr>\n",
              "      <th>128</th>\n",
              "      <td>401.8</td>\n",
              "      <td>94.7</td>\n",
              "      <td>0.0</td>\n",
              "      <td>147.4</td>\n",
              "      <td>11.4</td>\n",
              "      <td>946.8</td>\n",
              "      <td>852.1</td>\n",
              "      <td>28</td>\n",
              "      <td>68.50</td>\n",
              "    </tr>\n",
              "    <tr>\n",
              "      <th>485</th>\n",
              "      <td>387.0</td>\n",
              "      <td>20.0</td>\n",
              "      <td>94.0</td>\n",
              "      <td>157.0</td>\n",
              "      <td>14.3</td>\n",
              "      <td>938.0</td>\n",
              "      <td>845.0</td>\n",
              "      <td>28</td>\n",
              "      <td>50.24</td>\n",
              "    </tr>\n",
              "  </tbody>\n",
              "</table>\n",
              "</div>\n",
              "    <div class=\"colab-df-buttons\">\n",
              "\n",
              "  <div class=\"colab-df-container\">\n",
              "    <button class=\"colab-df-convert\" onclick=\"convertToInteractive('df-60038bb0-0db7-4880-b42c-6de7191466a5')\"\n",
              "            title=\"Convert this dataframe to an interactive table.\"\n",
              "            style=\"display:none;\">\n",
              "\n",
              "  <svg xmlns=\"http://www.w3.org/2000/svg\" height=\"24px\" viewBox=\"0 -960 960 960\">\n",
              "    <path d=\"M120-120v-720h720v720H120Zm60-500h600v-160H180v160Zm220 220h160v-160H400v160Zm0 220h160v-160H400v160ZM180-400h160v-160H180v160Zm440 0h160v-160H620v160ZM180-180h160v-160H180v160Zm440 0h160v-160H620v160Z\"/>\n",
              "  </svg>\n",
              "    </button>\n",
              "\n",
              "  <style>\n",
              "    .colab-df-container {\n",
              "      display:flex;\n",
              "      gap: 12px;\n",
              "    }\n",
              "\n",
              "    .colab-df-convert {\n",
              "      background-color: #E8F0FE;\n",
              "      border: none;\n",
              "      border-radius: 50%;\n",
              "      cursor: pointer;\n",
              "      display: none;\n",
              "      fill: #1967D2;\n",
              "      height: 32px;\n",
              "      padding: 0 0 0 0;\n",
              "      width: 32px;\n",
              "    }\n",
              "\n",
              "    .colab-df-convert:hover {\n",
              "      background-color: #E2EBFA;\n",
              "      box-shadow: 0px 1px 2px rgba(60, 64, 67, 0.3), 0px 1px 3px 1px rgba(60, 64, 67, 0.15);\n",
              "      fill: #174EA6;\n",
              "    }\n",
              "\n",
              "    .colab-df-buttons div {\n",
              "      margin-bottom: 4px;\n",
              "    }\n",
              "\n",
              "    [theme=dark] .colab-df-convert {\n",
              "      background-color: #3B4455;\n",
              "      fill: #D2E3FC;\n",
              "    }\n",
              "\n",
              "    [theme=dark] .colab-df-convert:hover {\n",
              "      background-color: #434B5C;\n",
              "      box-shadow: 0px 1px 3px 1px rgba(0, 0, 0, 0.15);\n",
              "      filter: drop-shadow(0px 1px 2px rgba(0, 0, 0, 0.3));\n",
              "      fill: #FFFFFF;\n",
              "    }\n",
              "  </style>\n",
              "\n",
              "    <script>\n",
              "      const buttonEl =\n",
              "        document.querySelector('#df-60038bb0-0db7-4880-b42c-6de7191466a5 button.colab-df-convert');\n",
              "      buttonEl.style.display =\n",
              "        google.colab.kernel.accessAllowed ? 'block' : 'none';\n",
              "\n",
              "      async function convertToInteractive(key) {\n",
              "        const element = document.querySelector('#df-60038bb0-0db7-4880-b42c-6de7191466a5');\n",
              "        const dataTable =\n",
              "          await google.colab.kernel.invokeFunction('convertToInteractive',\n",
              "                                                    [key], {});\n",
              "        if (!dataTable) return;\n",
              "\n",
              "        const docLinkHtml = 'Like what you see? Visit the ' +\n",
              "          '<a target=\"_blank\" href=https://colab.research.google.com/notebooks/data_table.ipynb>data table notebook</a>'\n",
              "          + ' to learn more about interactive tables.';\n",
              "        element.innerHTML = '';\n",
              "        dataTable['output_type'] = 'display_data';\n",
              "        await google.colab.output.renderOutput(dataTable, element);\n",
              "        const docLink = document.createElement('div');\n",
              "        docLink.innerHTML = docLinkHtml;\n",
              "        element.appendChild(docLink);\n",
              "      }\n",
              "    </script>\n",
              "  </div>\n",
              "\n",
              "\n",
              "    <div id=\"df-4a4d5d06-18e9-4c2f-8269-68f7fa9a501f\">\n",
              "      <button class=\"colab-df-quickchart\" onclick=\"quickchart('df-4a4d5d06-18e9-4c2f-8269-68f7fa9a501f')\"\n",
              "                title=\"Suggest charts\"\n",
              "                style=\"display:none;\">\n",
              "\n",
              "<svg xmlns=\"http://www.w3.org/2000/svg\" height=\"24px\"viewBox=\"0 0 24 24\"\n",
              "     width=\"24px\">\n",
              "    <g>\n",
              "        <path d=\"M19 3H5c-1.1 0-2 .9-2 2v14c0 1.1.9 2 2 2h14c1.1 0 2-.9 2-2V5c0-1.1-.9-2-2-2zM9 17H7v-7h2v7zm4 0h-2V7h2v10zm4 0h-2v-4h2v4z\"/>\n",
              "    </g>\n",
              "</svg>\n",
              "      </button>\n",
              "\n",
              "<style>\n",
              "  .colab-df-quickchart {\n",
              "      --bg-color: #E8F0FE;\n",
              "      --fill-color: #1967D2;\n",
              "      --hover-bg-color: #E2EBFA;\n",
              "      --hover-fill-color: #174EA6;\n",
              "      --disabled-fill-color: #AAA;\n",
              "      --disabled-bg-color: #DDD;\n",
              "  }\n",
              "\n",
              "  [theme=dark] .colab-df-quickchart {\n",
              "      --bg-color: #3B4455;\n",
              "      --fill-color: #D2E3FC;\n",
              "      --hover-bg-color: #434B5C;\n",
              "      --hover-fill-color: #FFFFFF;\n",
              "      --disabled-bg-color: #3B4455;\n",
              "      --disabled-fill-color: #666;\n",
              "  }\n",
              "\n",
              "  .colab-df-quickchart {\n",
              "    background-color: var(--bg-color);\n",
              "    border: none;\n",
              "    border-radius: 50%;\n",
              "    cursor: pointer;\n",
              "    display: none;\n",
              "    fill: var(--fill-color);\n",
              "    height: 32px;\n",
              "    padding: 0;\n",
              "    width: 32px;\n",
              "  }\n",
              "\n",
              "  .colab-df-quickchart:hover {\n",
              "    background-color: var(--hover-bg-color);\n",
              "    box-shadow: 0 1px 2px rgba(60, 64, 67, 0.3), 0 1px 3px 1px rgba(60, 64, 67, 0.15);\n",
              "    fill: var(--button-hover-fill-color);\n",
              "  }\n",
              "\n",
              "  .colab-df-quickchart-complete:disabled,\n",
              "  .colab-df-quickchart-complete:disabled:hover {\n",
              "    background-color: var(--disabled-bg-color);\n",
              "    fill: var(--disabled-fill-color);\n",
              "    box-shadow: none;\n",
              "  }\n",
              "\n",
              "  .colab-df-spinner {\n",
              "    border: 2px solid var(--fill-color);\n",
              "    border-color: transparent;\n",
              "    border-bottom-color: var(--fill-color);\n",
              "    animation:\n",
              "      spin 1s steps(1) infinite;\n",
              "  }\n",
              "\n",
              "  @keyframes spin {\n",
              "    0% {\n",
              "      border-color: transparent;\n",
              "      border-bottom-color: var(--fill-color);\n",
              "      border-left-color: var(--fill-color);\n",
              "    }\n",
              "    20% {\n",
              "      border-color: transparent;\n",
              "      border-left-color: var(--fill-color);\n",
              "      border-top-color: var(--fill-color);\n",
              "    }\n",
              "    30% {\n",
              "      border-color: transparent;\n",
              "      border-left-color: var(--fill-color);\n",
              "      border-top-color: var(--fill-color);\n",
              "      border-right-color: var(--fill-color);\n",
              "    }\n",
              "    40% {\n",
              "      border-color: transparent;\n",
              "      border-right-color: var(--fill-color);\n",
              "      border-top-color: var(--fill-color);\n",
              "    }\n",
              "    60% {\n",
              "      border-color: transparent;\n",
              "      border-right-color: var(--fill-color);\n",
              "    }\n",
              "    80% {\n",
              "      border-color: transparent;\n",
              "      border-right-color: var(--fill-color);\n",
              "      border-bottom-color: var(--fill-color);\n",
              "    }\n",
              "    90% {\n",
              "      border-color: transparent;\n",
              "      border-bottom-color: var(--fill-color);\n",
              "    }\n",
              "  }\n",
              "</style>\n",
              "\n",
              "      <script>\n",
              "        async function quickchart(key) {\n",
              "          const quickchartButtonEl =\n",
              "            document.querySelector('#' + key + ' button');\n",
              "          quickchartButtonEl.disabled = true;  // To prevent multiple clicks.\n",
              "          quickchartButtonEl.classList.add('colab-df-spinner');\n",
              "          try {\n",
              "            const charts = await google.colab.kernel.invokeFunction(\n",
              "                'suggestCharts', [key], {});\n",
              "          } catch (error) {\n",
              "            console.error('Error during call to suggestCharts:', error);\n",
              "          }\n",
              "          quickchartButtonEl.classList.remove('colab-df-spinner');\n",
              "          quickchartButtonEl.classList.add('colab-df-quickchart-complete');\n",
              "        }\n",
              "        (() => {\n",
              "          let quickchartButtonEl =\n",
              "            document.querySelector('#df-4a4d5d06-18e9-4c2f-8269-68f7fa9a501f button');\n",
              "          quickchartButtonEl.style.display =\n",
              "            google.colab.kernel.accessAllowed ? 'block' : 'none';\n",
              "        })();\n",
              "      </script>\n",
              "    </div>\n",
              "\n",
              "    </div>\n",
              "  </div>\n"
            ],
            "application/vnd.google.colaboratory.intrinsic+json": {
              "type": "dataframe",
              "summary": "{\n  \"name\": \"df\",\n  \"rows\": 10,\n  \"fields\": [\n    {\n      \"column\": \"cement\",\n      \"properties\": {\n        \"dtype\": \"number\",\n        \"std\": 107.74784813525409,\n        \"min\": 122.6,\n        \"max\": 401.8,\n        \"num_unique_values\": 10,\n        \"samples\": [\n          401.8,\n          122.6,\n          183.9\n        ],\n        \"semantic_type\": \"\",\n        \"description\": \"\"\n      }\n    },\n    {\n      \"column\": \"blast_furnace_slag\",\n      \"properties\": {\n        \"dtype\": \"number\",\n        \"std\": 99.29195111163622,\n        \"min\": 0.0,\n        \"max\": 305.3,\n        \"num_unique_values\": 8,\n        \"samples\": [\n          183.9,\n          122.6,\n          0.0\n        ],\n        \"semantic_type\": \"\",\n        \"description\": \"\"\n      }\n    },\n    {\n      \"column\": \"fly_ash\",\n      \"properties\": {\n        \"dtype\": \"number\",\n        \"std\": 43.86861697792119,\n        \"min\": 0.0,\n        \"max\": 113.0,\n        \"num_unique_values\": 3,\n        \"samples\": [\n          0.0,\n          113.0,\n          94.0\n        ],\n        \"semantic_type\": \"\",\n        \"description\": \"\"\n      }\n    },\n    {\n      \"column\": \"water\",\n      \"properties\": {\n        \"dtype\": \"number\",\n        \"std\": 19.67414829442716,\n        \"min\": 147.4,\n        \"max\": 203.5,\n        \"num_unique_values\": 8,\n        \"samples\": [\n          203.5,\n          186.0,\n          198.0\n        ],\n        \"semantic_type\": \"\",\n        \"description\": \"\"\n      }\n    },\n    {\n      \"column\": \"superplasticizer\",\n      \"properties\": {\n        \"dtype\": \"number\",\n        \"std\": 5.626139390776276,\n        \"min\": 0.0,\n        \"max\": 14.3,\n        \"num_unique_values\": 4,\n        \"samples\": [\n          8.0,\n          14.3,\n          0.0\n        ],\n        \"semantic_type\": \"\",\n        \"description\": \"\"\n      }\n    },\n    {\n      \"column\": \"coarse_aggregate\",\n      \"properties\": {\n        \"dtype\": \"number\",\n        \"std\": 58.91358643527541,\n        \"min\": 867.2,\n        \"max\": 1083.4,\n        \"num_unique_values\": 10,\n        \"samples\": [\n          946.8,\n          958.2,\n          959.2\n        ],\n        \"semantic_type\": \"\",\n        \"description\": \"\"\n      }\n    },\n    {\n      \"column\": \"fine_aggregate_\",\n      \"properties\": {\n        \"dtype\": \"number\",\n        \"std\": 67.1551148047894,\n        \"min\": 630.0,\n        \"max\": 863.0,\n        \"num_unique_values\": 10,\n        \"samples\": [\n          852.1,\n          800.1,\n          800.0\n        ],\n        \"semantic_type\": \"\",\n        \"description\": \"\"\n      }\n    },\n    {\n      \"column\": \"age\",\n      \"properties\": {\n        \"dtype\": \"number\",\n        \"std\": 108,\n        \"min\": 3,\n        \"max\": 360,\n        \"num_unique_values\": 5,\n        \"samples\": [\n          28,\n          360,\n          7\n        ],\n        \"semantic_type\": \"\",\n        \"description\": \"\"\n      }\n    },\n    {\n      \"column\": \"concrete_compressive_strength\",\n      \"properties\": {\n        \"dtype\": \"number\",\n        \"std\": 19.619985983685105,\n        \"min\": 3.32,\n        \"max\": 68.5,\n        \"num_unique_values\": 10,\n        \"samples\": [\n          68.5,\n          3.32,\n          32.53\n        ],\n        \"semantic_type\": \"\",\n        \"description\": \"\"\n      }\n    }\n  ]\n}"
            }
          },
          "metadata": {},
          "execution_count": 9
        }
      ]
    },
    {
      "cell_type": "code",
      "source": [
        "# se realizará un analisis estadistico descrptivo\n",
        "df.describe().T"
      ],
      "metadata": {
        "colab": {
          "base_uri": "https://localhost:8080/",
          "height": 331
        },
        "id": "JdjDMjwYRzNT",
        "outputId": "dcad08c1-b99b-4830-96b4-52d97c9198b3"
      },
      "execution_count": 10,
      "outputs": [
        {
          "output_type": "execute_result",
          "data": {
            "text/plain": [
              "                                count        mean         std     min  \\\n",
              "cement                         1030.0  281.167864  104.506364  102.00   \n",
              "blast_furnace_slag             1030.0   73.895825   86.279342    0.00   \n",
              "fly_ash                        1030.0   54.188350   63.997004    0.00   \n",
              "water                          1030.0  181.567282   21.354219  121.80   \n",
              "superplasticizer               1030.0    6.204660    5.973841    0.00   \n",
              "coarse_aggregate               1030.0  972.918932   77.753954  801.00   \n",
              "fine_aggregate_                1030.0  773.580485   80.175980  594.00   \n",
              "age                            1030.0   45.662136   63.169912    1.00   \n",
              "concrete_compressive_strength  1030.0   35.817961   16.705742    2.33   \n",
              "\n",
              "                                   25%      50%       75%     max  \n",
              "cement                         192.375  272.900   350.000   540.0  \n",
              "blast_furnace_slag               0.000   22.000   142.950   359.4  \n",
              "fly_ash                          0.000    0.000   118.300   200.1  \n",
              "water                          164.900  185.000   192.000   247.0  \n",
              "superplasticizer                 0.000    6.400    10.200    32.2  \n",
              "coarse_aggregate               932.000  968.000  1029.400  1145.0  \n",
              "fine_aggregate_                730.950  779.500   824.000   992.6  \n",
              "age                              7.000   28.000    56.000   365.0  \n",
              "concrete_compressive_strength   23.710   34.445    46.135    82.6  "
            ],
            "text/html": [
              "\n",
              "  <div id=\"df-619c668d-5b74-4b21-8a74-5693499b0104\" class=\"colab-df-container\">\n",
              "    <div>\n",
              "<style scoped>\n",
              "    .dataframe tbody tr th:only-of-type {\n",
              "        vertical-align: middle;\n",
              "    }\n",
              "\n",
              "    .dataframe tbody tr th {\n",
              "        vertical-align: top;\n",
              "    }\n",
              "\n",
              "    .dataframe thead th {\n",
              "        text-align: right;\n",
              "    }\n",
              "</style>\n",
              "<table border=\"1\" class=\"dataframe\">\n",
              "  <thead>\n",
              "    <tr style=\"text-align: right;\">\n",
              "      <th></th>\n",
              "      <th>count</th>\n",
              "      <th>mean</th>\n",
              "      <th>std</th>\n",
              "      <th>min</th>\n",
              "      <th>25%</th>\n",
              "      <th>50%</th>\n",
              "      <th>75%</th>\n",
              "      <th>max</th>\n",
              "    </tr>\n",
              "  </thead>\n",
              "  <tbody>\n",
              "    <tr>\n",
              "      <th>cement</th>\n",
              "      <td>1030.0</td>\n",
              "      <td>281.167864</td>\n",
              "      <td>104.506364</td>\n",
              "      <td>102.00</td>\n",
              "      <td>192.375</td>\n",
              "      <td>272.900</td>\n",
              "      <td>350.000</td>\n",
              "      <td>540.0</td>\n",
              "    </tr>\n",
              "    <tr>\n",
              "      <th>blast_furnace_slag</th>\n",
              "      <td>1030.0</td>\n",
              "      <td>73.895825</td>\n",
              "      <td>86.279342</td>\n",
              "      <td>0.00</td>\n",
              "      <td>0.000</td>\n",
              "      <td>22.000</td>\n",
              "      <td>142.950</td>\n",
              "      <td>359.4</td>\n",
              "    </tr>\n",
              "    <tr>\n",
              "      <th>fly_ash</th>\n",
              "      <td>1030.0</td>\n",
              "      <td>54.188350</td>\n",
              "      <td>63.997004</td>\n",
              "      <td>0.00</td>\n",
              "      <td>0.000</td>\n",
              "      <td>0.000</td>\n",
              "      <td>118.300</td>\n",
              "      <td>200.1</td>\n",
              "    </tr>\n",
              "    <tr>\n",
              "      <th>water</th>\n",
              "      <td>1030.0</td>\n",
              "      <td>181.567282</td>\n",
              "      <td>21.354219</td>\n",
              "      <td>121.80</td>\n",
              "      <td>164.900</td>\n",
              "      <td>185.000</td>\n",
              "      <td>192.000</td>\n",
              "      <td>247.0</td>\n",
              "    </tr>\n",
              "    <tr>\n",
              "      <th>superplasticizer</th>\n",
              "      <td>1030.0</td>\n",
              "      <td>6.204660</td>\n",
              "      <td>5.973841</td>\n",
              "      <td>0.00</td>\n",
              "      <td>0.000</td>\n",
              "      <td>6.400</td>\n",
              "      <td>10.200</td>\n",
              "      <td>32.2</td>\n",
              "    </tr>\n",
              "    <tr>\n",
              "      <th>coarse_aggregate</th>\n",
              "      <td>1030.0</td>\n",
              "      <td>972.918932</td>\n",
              "      <td>77.753954</td>\n",
              "      <td>801.00</td>\n",
              "      <td>932.000</td>\n",
              "      <td>968.000</td>\n",
              "      <td>1029.400</td>\n",
              "      <td>1145.0</td>\n",
              "    </tr>\n",
              "    <tr>\n",
              "      <th>fine_aggregate_</th>\n",
              "      <td>1030.0</td>\n",
              "      <td>773.580485</td>\n",
              "      <td>80.175980</td>\n",
              "      <td>594.00</td>\n",
              "      <td>730.950</td>\n",
              "      <td>779.500</td>\n",
              "      <td>824.000</td>\n",
              "      <td>992.6</td>\n",
              "    </tr>\n",
              "    <tr>\n",
              "      <th>age</th>\n",
              "      <td>1030.0</td>\n",
              "      <td>45.662136</td>\n",
              "      <td>63.169912</td>\n",
              "      <td>1.00</td>\n",
              "      <td>7.000</td>\n",
              "      <td>28.000</td>\n",
              "      <td>56.000</td>\n",
              "      <td>365.0</td>\n",
              "    </tr>\n",
              "    <tr>\n",
              "      <th>concrete_compressive_strength</th>\n",
              "      <td>1030.0</td>\n",
              "      <td>35.817961</td>\n",
              "      <td>16.705742</td>\n",
              "      <td>2.33</td>\n",
              "      <td>23.710</td>\n",
              "      <td>34.445</td>\n",
              "      <td>46.135</td>\n",
              "      <td>82.6</td>\n",
              "    </tr>\n",
              "  </tbody>\n",
              "</table>\n",
              "</div>\n",
              "    <div class=\"colab-df-buttons\">\n",
              "\n",
              "  <div class=\"colab-df-container\">\n",
              "    <button class=\"colab-df-convert\" onclick=\"convertToInteractive('df-619c668d-5b74-4b21-8a74-5693499b0104')\"\n",
              "            title=\"Convert this dataframe to an interactive table.\"\n",
              "            style=\"display:none;\">\n",
              "\n",
              "  <svg xmlns=\"http://www.w3.org/2000/svg\" height=\"24px\" viewBox=\"0 -960 960 960\">\n",
              "    <path d=\"M120-120v-720h720v720H120Zm60-500h600v-160H180v160Zm220 220h160v-160H400v160Zm0 220h160v-160H400v160ZM180-400h160v-160H180v160Zm440 0h160v-160H620v160ZM180-180h160v-160H180v160Zm440 0h160v-160H620v160Z\"/>\n",
              "  </svg>\n",
              "    </button>\n",
              "\n",
              "  <style>\n",
              "    .colab-df-container {\n",
              "      display:flex;\n",
              "      gap: 12px;\n",
              "    }\n",
              "\n",
              "    .colab-df-convert {\n",
              "      background-color: #E8F0FE;\n",
              "      border: none;\n",
              "      border-radius: 50%;\n",
              "      cursor: pointer;\n",
              "      display: none;\n",
              "      fill: #1967D2;\n",
              "      height: 32px;\n",
              "      padding: 0 0 0 0;\n",
              "      width: 32px;\n",
              "    }\n",
              "\n",
              "    .colab-df-convert:hover {\n",
              "      background-color: #E2EBFA;\n",
              "      box-shadow: 0px 1px 2px rgba(60, 64, 67, 0.3), 0px 1px 3px 1px rgba(60, 64, 67, 0.15);\n",
              "      fill: #174EA6;\n",
              "    }\n",
              "\n",
              "    .colab-df-buttons div {\n",
              "      margin-bottom: 4px;\n",
              "    }\n",
              "\n",
              "    [theme=dark] .colab-df-convert {\n",
              "      background-color: #3B4455;\n",
              "      fill: #D2E3FC;\n",
              "    }\n",
              "\n",
              "    [theme=dark] .colab-df-convert:hover {\n",
              "      background-color: #434B5C;\n",
              "      box-shadow: 0px 1px 3px 1px rgba(0, 0, 0, 0.15);\n",
              "      filter: drop-shadow(0px 1px 2px rgba(0, 0, 0, 0.3));\n",
              "      fill: #FFFFFF;\n",
              "    }\n",
              "  </style>\n",
              "\n",
              "    <script>\n",
              "      const buttonEl =\n",
              "        document.querySelector('#df-619c668d-5b74-4b21-8a74-5693499b0104 button.colab-df-convert');\n",
              "      buttonEl.style.display =\n",
              "        google.colab.kernel.accessAllowed ? 'block' : 'none';\n",
              "\n",
              "      async function convertToInteractive(key) {\n",
              "        const element = document.querySelector('#df-619c668d-5b74-4b21-8a74-5693499b0104');\n",
              "        const dataTable =\n",
              "          await google.colab.kernel.invokeFunction('convertToInteractive',\n",
              "                                                    [key], {});\n",
              "        if (!dataTable) return;\n",
              "\n",
              "        const docLinkHtml = 'Like what you see? Visit the ' +\n",
              "          '<a target=\"_blank\" href=https://colab.research.google.com/notebooks/data_table.ipynb>data table notebook</a>'\n",
              "          + ' to learn more about interactive tables.';\n",
              "        element.innerHTML = '';\n",
              "        dataTable['output_type'] = 'display_data';\n",
              "        await google.colab.output.renderOutput(dataTable, element);\n",
              "        const docLink = document.createElement('div');\n",
              "        docLink.innerHTML = docLinkHtml;\n",
              "        element.appendChild(docLink);\n",
              "      }\n",
              "    </script>\n",
              "  </div>\n",
              "\n",
              "\n",
              "    <div id=\"df-e7f5d5a7-918a-4285-8fdc-9be8a05b371e\">\n",
              "      <button class=\"colab-df-quickchart\" onclick=\"quickchart('df-e7f5d5a7-918a-4285-8fdc-9be8a05b371e')\"\n",
              "                title=\"Suggest charts\"\n",
              "                style=\"display:none;\">\n",
              "\n",
              "<svg xmlns=\"http://www.w3.org/2000/svg\" height=\"24px\"viewBox=\"0 0 24 24\"\n",
              "     width=\"24px\">\n",
              "    <g>\n",
              "        <path d=\"M19 3H5c-1.1 0-2 .9-2 2v14c0 1.1.9 2 2 2h14c1.1 0 2-.9 2-2V5c0-1.1-.9-2-2-2zM9 17H7v-7h2v7zm4 0h-2V7h2v10zm4 0h-2v-4h2v4z\"/>\n",
              "    </g>\n",
              "</svg>\n",
              "      </button>\n",
              "\n",
              "<style>\n",
              "  .colab-df-quickchart {\n",
              "      --bg-color: #E8F0FE;\n",
              "      --fill-color: #1967D2;\n",
              "      --hover-bg-color: #E2EBFA;\n",
              "      --hover-fill-color: #174EA6;\n",
              "      --disabled-fill-color: #AAA;\n",
              "      --disabled-bg-color: #DDD;\n",
              "  }\n",
              "\n",
              "  [theme=dark] .colab-df-quickchart {\n",
              "      --bg-color: #3B4455;\n",
              "      --fill-color: #D2E3FC;\n",
              "      --hover-bg-color: #434B5C;\n",
              "      --hover-fill-color: #FFFFFF;\n",
              "      --disabled-bg-color: #3B4455;\n",
              "      --disabled-fill-color: #666;\n",
              "  }\n",
              "\n",
              "  .colab-df-quickchart {\n",
              "    background-color: var(--bg-color);\n",
              "    border: none;\n",
              "    border-radius: 50%;\n",
              "    cursor: pointer;\n",
              "    display: none;\n",
              "    fill: var(--fill-color);\n",
              "    height: 32px;\n",
              "    padding: 0;\n",
              "    width: 32px;\n",
              "  }\n",
              "\n",
              "  .colab-df-quickchart:hover {\n",
              "    background-color: var(--hover-bg-color);\n",
              "    box-shadow: 0 1px 2px rgba(60, 64, 67, 0.3), 0 1px 3px 1px rgba(60, 64, 67, 0.15);\n",
              "    fill: var(--button-hover-fill-color);\n",
              "  }\n",
              "\n",
              "  .colab-df-quickchart-complete:disabled,\n",
              "  .colab-df-quickchart-complete:disabled:hover {\n",
              "    background-color: var(--disabled-bg-color);\n",
              "    fill: var(--disabled-fill-color);\n",
              "    box-shadow: none;\n",
              "  }\n",
              "\n",
              "  .colab-df-spinner {\n",
              "    border: 2px solid var(--fill-color);\n",
              "    border-color: transparent;\n",
              "    border-bottom-color: var(--fill-color);\n",
              "    animation:\n",
              "      spin 1s steps(1) infinite;\n",
              "  }\n",
              "\n",
              "  @keyframes spin {\n",
              "    0% {\n",
              "      border-color: transparent;\n",
              "      border-bottom-color: var(--fill-color);\n",
              "      border-left-color: var(--fill-color);\n",
              "    }\n",
              "    20% {\n",
              "      border-color: transparent;\n",
              "      border-left-color: var(--fill-color);\n",
              "      border-top-color: var(--fill-color);\n",
              "    }\n",
              "    30% {\n",
              "      border-color: transparent;\n",
              "      border-left-color: var(--fill-color);\n",
              "      border-top-color: var(--fill-color);\n",
              "      border-right-color: var(--fill-color);\n",
              "    }\n",
              "    40% {\n",
              "      border-color: transparent;\n",
              "      border-right-color: var(--fill-color);\n",
              "      border-top-color: var(--fill-color);\n",
              "    }\n",
              "    60% {\n",
              "      border-color: transparent;\n",
              "      border-right-color: var(--fill-color);\n",
              "    }\n",
              "    80% {\n",
              "      border-color: transparent;\n",
              "      border-right-color: var(--fill-color);\n",
              "      border-bottom-color: var(--fill-color);\n",
              "    }\n",
              "    90% {\n",
              "      border-color: transparent;\n",
              "      border-bottom-color: var(--fill-color);\n",
              "    }\n",
              "  }\n",
              "</style>\n",
              "\n",
              "      <script>\n",
              "        async function quickchart(key) {\n",
              "          const quickchartButtonEl =\n",
              "            document.querySelector('#' + key + ' button');\n",
              "          quickchartButtonEl.disabled = true;  // To prevent multiple clicks.\n",
              "          quickchartButtonEl.classList.add('colab-df-spinner');\n",
              "          try {\n",
              "            const charts = await google.colab.kernel.invokeFunction(\n",
              "                'suggestCharts', [key], {});\n",
              "          } catch (error) {\n",
              "            console.error('Error during call to suggestCharts:', error);\n",
              "          }\n",
              "          quickchartButtonEl.classList.remove('colab-df-spinner');\n",
              "          quickchartButtonEl.classList.add('colab-df-quickchart-complete');\n",
              "        }\n",
              "        (() => {\n",
              "          let quickchartButtonEl =\n",
              "            document.querySelector('#df-e7f5d5a7-918a-4285-8fdc-9be8a05b371e button');\n",
              "          quickchartButtonEl.style.display =\n",
              "            google.colab.kernel.accessAllowed ? 'block' : 'none';\n",
              "        })();\n",
              "      </script>\n",
              "    </div>\n",
              "\n",
              "    </div>\n",
              "  </div>\n"
            ],
            "application/vnd.google.colaboratory.intrinsic+json": {
              "type": "dataframe",
              "summary": "{\n  \"name\": \"df\",\n  \"rows\": 9,\n  \"fields\": [\n    {\n      \"column\": \"count\",\n      \"properties\": {\n        \"dtype\": \"number\",\n        \"std\": 0.0,\n        \"min\": 1030.0,\n        \"max\": 1030.0,\n        \"num_unique_values\": 1,\n        \"samples\": [\n          1030.0\n        ],\n        \"semantic_type\": \"\",\n        \"description\": \"\"\n      }\n    },\n    {\n      \"column\": \"mean\",\n      \"properties\": {\n        \"dtype\": \"number\",\n        \"std\": 356.26865302628823,\n        \"min\": 6.204660194174758,\n        \"max\": 972.9189320388349,\n        \"num_unique_values\": 9,\n        \"samples\": [\n          45.662135922330094\n        ],\n        \"semantic_type\": \"\",\n        \"description\": \"\"\n      }\n    },\n    {\n      \"column\": \"std\",\n      \"properties\": {\n        \"dtype\": \"number\",\n        \"std\": 34.752006727568,\n        \"min\": 5.973841392485506,\n        \"max\": 104.50636449481543,\n        \"num_unique_values\": 9,\n        \"samples\": [\n          63.169911581033155\n        ],\n        \"semantic_type\": \"\",\n        \"description\": \"\"\n      }\n    },\n    {\n      \"column\": \"min\",\n      \"properties\": {\n        \"dtype\": \"number\",\n        \"std\": 301.5201827407247,\n        \"min\": 0.0,\n        \"max\": 801.0,\n        \"num_unique_values\": 7,\n        \"samples\": [\n          102.0\n        ],\n        \"semantic_type\": \"\",\n        \"description\": \"\"\n      }\n    },\n    {\n      \"column\": \"25%\",\n      \"properties\": {\n        \"dtype\": \"number\",\n        \"std\": 353.6157397514992,\n        \"min\": 0.0,\n        \"max\": 932.0,\n        \"num_unique_values\": 7,\n        \"samples\": [\n          192.375\n        ],\n        \"semantic_type\": \"\",\n        \"description\": \"\"\n      }\n    },\n    {\n      \"column\": \"50%\",\n      \"properties\": {\n        \"dtype\": \"number\",\n        \"std\": 365.7148745607704,\n        \"min\": 0.0,\n        \"max\": 968.0,\n        \"num_unique_values\": 9,\n        \"samples\": [\n          28.0\n        ],\n        \"semantic_type\": \"\",\n        \"description\": \"\"\n      }\n    },\n    {\n      \"column\": \"75%\",\n      \"properties\": {\n        \"dtype\": \"number\",\n        \"std\": 368.42276339485323,\n        \"min\": 10.2,\n        \"max\": 1029.4,\n        \"num_unique_values\": 9,\n        \"samples\": [\n          56.0\n        ],\n        \"semantic_type\": \"\",\n        \"description\": \"\"\n      }\n    },\n    {\n      \"column\": \"max\",\n      \"properties\": {\n        \"dtype\": \"number\",\n        \"std\": 389.44640837989505,\n        \"min\": 32.2,\n        \"max\": 1145.0,\n        \"num_unique_values\": 9,\n        \"samples\": [\n          365.0\n        ],\n        \"semantic_type\": \"\",\n        \"description\": \"\"\n      }\n    }\n  ]\n}"
            }
          },
          "metadata": {},
          "execution_count": 10
        }
      ]
    },
    {
      "cell_type": "markdown",
      "source": [
        "Algunos componentes como Fly Ash, blast_furnace_Slag y Superplasticizer tienen varios valores en cero, indicando que no siempre se utilizan en la mezcla.\n",
        "\n",
        "Las proporciones de los ingredientes varían mucho entre muestras.\n",
        "\n",
        "La resistencia del concreto (Concrete compressive strength) tiene una gran dispersión, lo que podría generar valores extremos."
      ],
      "metadata": {
        "id": "RAyZBBqHSlMT"
      }
    },
    {
      "cell_type": "code",
      "source": [
        "# Se identificaran posibles valores atipicos en la variable concrete_compressive_strength según lo visualizado en la descripcion estaditica\n",
        "Q1 = df['concrete_compressive_strength'].quantile(0.25) # se calcula quartil 1\n",
        "Q3 = df['concrete_compressive_strength'].quantile(0.75) # Se calcula cuartil 3\n",
        "IQR = Q3 - Q1 # Se calcula el intercuartilico\n",
        "atipicos = df[(df['concrete_compressive_strength'] < Q1 - 1.5 * IQR) | (df['concrete_compressive_strength'] > Q3 + 1.5 * IQR)]\n",
        "atipicos"
      ],
      "metadata": {
        "colab": {
          "base_uri": "https://localhost:8080/",
          "height": 174
        },
        "id": "ka8-9qjnSxKT",
        "outputId": "e73f4fae-becb-4cd1-bdf7-fbe376e9bc33"
      },
      "execution_count": 11,
      "outputs": [
        {
          "output_type": "execute_result",
          "data": {
            "text/plain": [
              "     cement  blast_furnace_slag  fly_ash  water  superplasticizer  \\\n",
              "0     540.0                 0.0      0.0  162.0               2.5   \n",
              "153   323.7               282.8      0.0  183.8              10.3   \n",
              "181   389.9               189.0      0.0  145.9              22.0   \n",
              "381   315.0               137.0      0.0  145.0               5.9   \n",
              "\n",
              "     coarse_aggregate  fine_aggregate_  age  concrete_compressive_strength  \n",
              "0              1040.0            676.0   28                          79.99  \n",
              "153             942.7            659.9   56                          80.20  \n",
              "181             944.7            755.8   91                          82.60  \n",
              "381            1130.0            745.0   28                          81.75  "
            ],
            "text/html": [
              "\n",
              "  <div id=\"df-e327a986-ebe8-4efb-bcae-d6cc7232ae10\" class=\"colab-df-container\">\n",
              "    <div>\n",
              "<style scoped>\n",
              "    .dataframe tbody tr th:only-of-type {\n",
              "        vertical-align: middle;\n",
              "    }\n",
              "\n",
              "    .dataframe tbody tr th {\n",
              "        vertical-align: top;\n",
              "    }\n",
              "\n",
              "    .dataframe thead th {\n",
              "        text-align: right;\n",
              "    }\n",
              "</style>\n",
              "<table border=\"1\" class=\"dataframe\">\n",
              "  <thead>\n",
              "    <tr style=\"text-align: right;\">\n",
              "      <th></th>\n",
              "      <th>cement</th>\n",
              "      <th>blast_furnace_slag</th>\n",
              "      <th>fly_ash</th>\n",
              "      <th>water</th>\n",
              "      <th>superplasticizer</th>\n",
              "      <th>coarse_aggregate</th>\n",
              "      <th>fine_aggregate_</th>\n",
              "      <th>age</th>\n",
              "      <th>concrete_compressive_strength</th>\n",
              "    </tr>\n",
              "  </thead>\n",
              "  <tbody>\n",
              "    <tr>\n",
              "      <th>0</th>\n",
              "      <td>540.0</td>\n",
              "      <td>0.0</td>\n",
              "      <td>0.0</td>\n",
              "      <td>162.0</td>\n",
              "      <td>2.5</td>\n",
              "      <td>1040.0</td>\n",
              "      <td>676.0</td>\n",
              "      <td>28</td>\n",
              "      <td>79.99</td>\n",
              "    </tr>\n",
              "    <tr>\n",
              "      <th>153</th>\n",
              "      <td>323.7</td>\n",
              "      <td>282.8</td>\n",
              "      <td>0.0</td>\n",
              "      <td>183.8</td>\n",
              "      <td>10.3</td>\n",
              "      <td>942.7</td>\n",
              "      <td>659.9</td>\n",
              "      <td>56</td>\n",
              "      <td>80.20</td>\n",
              "    </tr>\n",
              "    <tr>\n",
              "      <th>181</th>\n",
              "      <td>389.9</td>\n",
              "      <td>189.0</td>\n",
              "      <td>0.0</td>\n",
              "      <td>145.9</td>\n",
              "      <td>22.0</td>\n",
              "      <td>944.7</td>\n",
              "      <td>755.8</td>\n",
              "      <td>91</td>\n",
              "      <td>82.60</td>\n",
              "    </tr>\n",
              "    <tr>\n",
              "      <th>381</th>\n",
              "      <td>315.0</td>\n",
              "      <td>137.0</td>\n",
              "      <td>0.0</td>\n",
              "      <td>145.0</td>\n",
              "      <td>5.9</td>\n",
              "      <td>1130.0</td>\n",
              "      <td>745.0</td>\n",
              "      <td>28</td>\n",
              "      <td>81.75</td>\n",
              "    </tr>\n",
              "  </tbody>\n",
              "</table>\n",
              "</div>\n",
              "    <div class=\"colab-df-buttons\">\n",
              "\n",
              "  <div class=\"colab-df-container\">\n",
              "    <button class=\"colab-df-convert\" onclick=\"convertToInteractive('df-e327a986-ebe8-4efb-bcae-d6cc7232ae10')\"\n",
              "            title=\"Convert this dataframe to an interactive table.\"\n",
              "            style=\"display:none;\">\n",
              "\n",
              "  <svg xmlns=\"http://www.w3.org/2000/svg\" height=\"24px\" viewBox=\"0 -960 960 960\">\n",
              "    <path d=\"M120-120v-720h720v720H120Zm60-500h600v-160H180v160Zm220 220h160v-160H400v160Zm0 220h160v-160H400v160ZM180-400h160v-160H180v160Zm440 0h160v-160H620v160ZM180-180h160v-160H180v160Zm440 0h160v-160H620v160Z\"/>\n",
              "  </svg>\n",
              "    </button>\n",
              "\n",
              "  <style>\n",
              "    .colab-df-container {\n",
              "      display:flex;\n",
              "      gap: 12px;\n",
              "    }\n",
              "\n",
              "    .colab-df-convert {\n",
              "      background-color: #E8F0FE;\n",
              "      border: none;\n",
              "      border-radius: 50%;\n",
              "      cursor: pointer;\n",
              "      display: none;\n",
              "      fill: #1967D2;\n",
              "      height: 32px;\n",
              "      padding: 0 0 0 0;\n",
              "      width: 32px;\n",
              "    }\n",
              "\n",
              "    .colab-df-convert:hover {\n",
              "      background-color: #E2EBFA;\n",
              "      box-shadow: 0px 1px 2px rgba(60, 64, 67, 0.3), 0px 1px 3px 1px rgba(60, 64, 67, 0.15);\n",
              "      fill: #174EA6;\n",
              "    }\n",
              "\n",
              "    .colab-df-buttons div {\n",
              "      margin-bottom: 4px;\n",
              "    }\n",
              "\n",
              "    [theme=dark] .colab-df-convert {\n",
              "      background-color: #3B4455;\n",
              "      fill: #D2E3FC;\n",
              "    }\n",
              "\n",
              "    [theme=dark] .colab-df-convert:hover {\n",
              "      background-color: #434B5C;\n",
              "      box-shadow: 0px 1px 3px 1px rgba(0, 0, 0, 0.15);\n",
              "      filter: drop-shadow(0px 1px 2px rgba(0, 0, 0, 0.3));\n",
              "      fill: #FFFFFF;\n",
              "    }\n",
              "  </style>\n",
              "\n",
              "    <script>\n",
              "      const buttonEl =\n",
              "        document.querySelector('#df-e327a986-ebe8-4efb-bcae-d6cc7232ae10 button.colab-df-convert');\n",
              "      buttonEl.style.display =\n",
              "        google.colab.kernel.accessAllowed ? 'block' : 'none';\n",
              "\n",
              "      async function convertToInteractive(key) {\n",
              "        const element = document.querySelector('#df-e327a986-ebe8-4efb-bcae-d6cc7232ae10');\n",
              "        const dataTable =\n",
              "          await google.colab.kernel.invokeFunction('convertToInteractive',\n",
              "                                                    [key], {});\n",
              "        if (!dataTable) return;\n",
              "\n",
              "        const docLinkHtml = 'Like what you see? Visit the ' +\n",
              "          '<a target=\"_blank\" href=https://colab.research.google.com/notebooks/data_table.ipynb>data table notebook</a>'\n",
              "          + ' to learn more about interactive tables.';\n",
              "        element.innerHTML = '';\n",
              "        dataTable['output_type'] = 'display_data';\n",
              "        await google.colab.output.renderOutput(dataTable, element);\n",
              "        const docLink = document.createElement('div');\n",
              "        docLink.innerHTML = docLinkHtml;\n",
              "        element.appendChild(docLink);\n",
              "      }\n",
              "    </script>\n",
              "  </div>\n",
              "\n",
              "\n",
              "    <div id=\"df-3b9e53d2-56a7-4945-b1d4-0cd2dd7e0edd\">\n",
              "      <button class=\"colab-df-quickchart\" onclick=\"quickchart('df-3b9e53d2-56a7-4945-b1d4-0cd2dd7e0edd')\"\n",
              "                title=\"Suggest charts\"\n",
              "                style=\"display:none;\">\n",
              "\n",
              "<svg xmlns=\"http://www.w3.org/2000/svg\" height=\"24px\"viewBox=\"0 0 24 24\"\n",
              "     width=\"24px\">\n",
              "    <g>\n",
              "        <path d=\"M19 3H5c-1.1 0-2 .9-2 2v14c0 1.1.9 2 2 2h14c1.1 0 2-.9 2-2V5c0-1.1-.9-2-2-2zM9 17H7v-7h2v7zm4 0h-2V7h2v10zm4 0h-2v-4h2v4z\"/>\n",
              "    </g>\n",
              "</svg>\n",
              "      </button>\n",
              "\n",
              "<style>\n",
              "  .colab-df-quickchart {\n",
              "      --bg-color: #E8F0FE;\n",
              "      --fill-color: #1967D2;\n",
              "      --hover-bg-color: #E2EBFA;\n",
              "      --hover-fill-color: #174EA6;\n",
              "      --disabled-fill-color: #AAA;\n",
              "      --disabled-bg-color: #DDD;\n",
              "  }\n",
              "\n",
              "  [theme=dark] .colab-df-quickchart {\n",
              "      --bg-color: #3B4455;\n",
              "      --fill-color: #D2E3FC;\n",
              "      --hover-bg-color: #434B5C;\n",
              "      --hover-fill-color: #FFFFFF;\n",
              "      --disabled-bg-color: #3B4455;\n",
              "      --disabled-fill-color: #666;\n",
              "  }\n",
              "\n",
              "  .colab-df-quickchart {\n",
              "    background-color: var(--bg-color);\n",
              "    border: none;\n",
              "    border-radius: 50%;\n",
              "    cursor: pointer;\n",
              "    display: none;\n",
              "    fill: var(--fill-color);\n",
              "    height: 32px;\n",
              "    padding: 0;\n",
              "    width: 32px;\n",
              "  }\n",
              "\n",
              "  .colab-df-quickchart:hover {\n",
              "    background-color: var(--hover-bg-color);\n",
              "    box-shadow: 0 1px 2px rgba(60, 64, 67, 0.3), 0 1px 3px 1px rgba(60, 64, 67, 0.15);\n",
              "    fill: var(--button-hover-fill-color);\n",
              "  }\n",
              "\n",
              "  .colab-df-quickchart-complete:disabled,\n",
              "  .colab-df-quickchart-complete:disabled:hover {\n",
              "    background-color: var(--disabled-bg-color);\n",
              "    fill: var(--disabled-fill-color);\n",
              "    box-shadow: none;\n",
              "  }\n",
              "\n",
              "  .colab-df-spinner {\n",
              "    border: 2px solid var(--fill-color);\n",
              "    border-color: transparent;\n",
              "    border-bottom-color: var(--fill-color);\n",
              "    animation:\n",
              "      spin 1s steps(1) infinite;\n",
              "  }\n",
              "\n",
              "  @keyframes spin {\n",
              "    0% {\n",
              "      border-color: transparent;\n",
              "      border-bottom-color: var(--fill-color);\n",
              "      border-left-color: var(--fill-color);\n",
              "    }\n",
              "    20% {\n",
              "      border-color: transparent;\n",
              "      border-left-color: var(--fill-color);\n",
              "      border-top-color: var(--fill-color);\n",
              "    }\n",
              "    30% {\n",
              "      border-color: transparent;\n",
              "      border-left-color: var(--fill-color);\n",
              "      border-top-color: var(--fill-color);\n",
              "      border-right-color: var(--fill-color);\n",
              "    }\n",
              "    40% {\n",
              "      border-color: transparent;\n",
              "      border-right-color: var(--fill-color);\n",
              "      border-top-color: var(--fill-color);\n",
              "    }\n",
              "    60% {\n",
              "      border-color: transparent;\n",
              "      border-right-color: var(--fill-color);\n",
              "    }\n",
              "    80% {\n",
              "      border-color: transparent;\n",
              "      border-right-color: var(--fill-color);\n",
              "      border-bottom-color: var(--fill-color);\n",
              "    }\n",
              "    90% {\n",
              "      border-color: transparent;\n",
              "      border-bottom-color: var(--fill-color);\n",
              "    }\n",
              "  }\n",
              "</style>\n",
              "\n",
              "      <script>\n",
              "        async function quickchart(key) {\n",
              "          const quickchartButtonEl =\n",
              "            document.querySelector('#' + key + ' button');\n",
              "          quickchartButtonEl.disabled = true;  // To prevent multiple clicks.\n",
              "          quickchartButtonEl.classList.add('colab-df-spinner');\n",
              "          try {\n",
              "            const charts = await google.colab.kernel.invokeFunction(\n",
              "                'suggestCharts', [key], {});\n",
              "          } catch (error) {\n",
              "            console.error('Error during call to suggestCharts:', error);\n",
              "          }\n",
              "          quickchartButtonEl.classList.remove('colab-df-spinner');\n",
              "          quickchartButtonEl.classList.add('colab-df-quickchart-complete');\n",
              "        }\n",
              "        (() => {\n",
              "          let quickchartButtonEl =\n",
              "            document.querySelector('#df-3b9e53d2-56a7-4945-b1d4-0cd2dd7e0edd button');\n",
              "          quickchartButtonEl.style.display =\n",
              "            google.colab.kernel.accessAllowed ? 'block' : 'none';\n",
              "        })();\n",
              "      </script>\n",
              "    </div>\n",
              "\n",
              "  <div id=\"id_3425a1f5-1786-4e42-97eb-d33b4d680ebd\">\n",
              "    <style>\n",
              "      .colab-df-generate {\n",
              "        background-color: #E8F0FE;\n",
              "        border: none;\n",
              "        border-radius: 50%;\n",
              "        cursor: pointer;\n",
              "        display: none;\n",
              "        fill: #1967D2;\n",
              "        height: 32px;\n",
              "        padding: 0 0 0 0;\n",
              "        width: 32px;\n",
              "      }\n",
              "\n",
              "      .colab-df-generate:hover {\n",
              "        background-color: #E2EBFA;\n",
              "        box-shadow: 0px 1px 2px rgba(60, 64, 67, 0.3), 0px 1px 3px 1px rgba(60, 64, 67, 0.15);\n",
              "        fill: #174EA6;\n",
              "      }\n",
              "\n",
              "      [theme=dark] .colab-df-generate {\n",
              "        background-color: #3B4455;\n",
              "        fill: #D2E3FC;\n",
              "      }\n",
              "\n",
              "      [theme=dark] .colab-df-generate:hover {\n",
              "        background-color: #434B5C;\n",
              "        box-shadow: 0px 1px 3px 1px rgba(0, 0, 0, 0.15);\n",
              "        filter: drop-shadow(0px 1px 2px rgba(0, 0, 0, 0.3));\n",
              "        fill: #FFFFFF;\n",
              "      }\n",
              "    </style>\n",
              "    <button class=\"colab-df-generate\" onclick=\"generateWithVariable('atipicos')\"\n",
              "            title=\"Generate code using this dataframe.\"\n",
              "            style=\"display:none;\">\n",
              "\n",
              "  <svg xmlns=\"http://www.w3.org/2000/svg\" height=\"24px\"viewBox=\"0 0 24 24\"\n",
              "       width=\"24px\">\n",
              "    <path d=\"M7,19H8.4L18.45,9,17,7.55,7,17.6ZM5,21V16.75L18.45,3.32a2,2,0,0,1,2.83,0l1.4,1.43a1.91,1.91,0,0,1,.58,1.4,1.91,1.91,0,0,1-.58,1.4L9.25,21ZM18.45,9,17,7.55Zm-12,3A5.31,5.31,0,0,0,4.9,8.1,5.31,5.31,0,0,0,1,6.5,5.31,5.31,0,0,0,4.9,4.9,5.31,5.31,0,0,0,6.5,1,5.31,5.31,0,0,0,8.1,4.9,5.31,5.31,0,0,0,12,6.5,5.46,5.46,0,0,0,6.5,12Z\"/>\n",
              "  </svg>\n",
              "    </button>\n",
              "    <script>\n",
              "      (() => {\n",
              "      const buttonEl =\n",
              "        document.querySelector('#id_3425a1f5-1786-4e42-97eb-d33b4d680ebd button.colab-df-generate');\n",
              "      buttonEl.style.display =\n",
              "        google.colab.kernel.accessAllowed ? 'block' : 'none';\n",
              "\n",
              "      buttonEl.onclick = () => {\n",
              "        google.colab.notebook.generateWithVariable('atipicos');\n",
              "      }\n",
              "      })();\n",
              "    </script>\n",
              "  </div>\n",
              "\n",
              "    </div>\n",
              "  </div>\n"
            ],
            "application/vnd.google.colaboratory.intrinsic+json": {
              "type": "dataframe",
              "variable_name": "atipicos",
              "summary": "{\n  \"name\": \"atipicos\",\n  \"rows\": 4,\n  \"fields\": [\n    {\n      \"column\": \"cement\",\n      \"properties\": {\n        \"dtype\": \"number\",\n        \"std\": 104.08683874534762,\n        \"min\": 315.0,\n        \"max\": 540.0,\n        \"num_unique_values\": 4,\n        \"samples\": [\n          323.7,\n          315.0,\n          540.0\n        ],\n        \"semantic_type\": \"\",\n        \"description\": \"\"\n      }\n    },\n    {\n      \"column\": \"blast_furnace_slag\",\n      \"properties\": {\n        \"dtype\": \"number\",\n        \"std\": 118.04869051935025,\n        \"min\": 0.0,\n        \"max\": 282.8,\n        \"num_unique_values\": 4,\n        \"samples\": [\n          282.8,\n          137.0,\n          0.0\n        ],\n        \"semantic_type\": \"\",\n        \"description\": \"\"\n      }\n    },\n    {\n      \"column\": \"fly_ash\",\n      \"properties\": {\n        \"dtype\": \"number\",\n        \"std\": 0.0,\n        \"min\": 0.0,\n        \"max\": 0.0,\n        \"num_unique_values\": 1,\n        \"samples\": [\n          0.0\n        ],\n        \"semantic_type\": \"\",\n        \"description\": \"\"\n      }\n    },\n    {\n      \"column\": \"water\",\n      \"properties\": {\n        \"dtype\": \"number\",\n        \"std\": 18.179911074223295,\n        \"min\": 145.0,\n        \"max\": 183.8,\n        \"num_unique_values\": 4,\n        \"samples\": [\n          183.8\n        ],\n        \"semantic_type\": \"\",\n        \"description\": \"\"\n      }\n    },\n    {\n      \"column\": \"superplasticizer\",\n      \"properties\": {\n        \"dtype\": \"number\",\n        \"std\": 8.505439436031509,\n        \"min\": 2.5,\n        \"max\": 22.0,\n        \"num_unique_values\": 4,\n        \"samples\": [\n          10.3\n        ],\n        \"semantic_type\": \"\",\n        \"description\": \"\"\n      }\n    },\n    {\n      \"column\": \"coarse_aggregate\",\n      \"properties\": {\n        \"dtype\": \"number\",\n        \"std\": 89.47567639681,\n        \"min\": 942.7,\n        \"max\": 1130.0,\n        \"num_unique_values\": 4,\n        \"samples\": [\n          942.7\n        ],\n        \"semantic_type\": \"\",\n        \"description\": \"\"\n      }\n    },\n    {\n      \"column\": \"fine_aggregate_\",\n      \"properties\": {\n        \"dtype\": \"number\",\n        \"std\": 48.25600998839418,\n        \"min\": 659.9,\n        \"max\": 755.8,\n        \"num_unique_values\": 4,\n        \"samples\": [\n          659.9\n        ],\n        \"semantic_type\": \"\",\n        \"description\": \"\"\n      }\n    },\n    {\n      \"column\": \"age\",\n      \"properties\": {\n        \"dtype\": \"number\",\n        \"std\": 29,\n        \"min\": 28,\n        \"max\": 91,\n        \"num_unique_values\": 3,\n        \"samples\": [\n          28\n        ],\n        \"semantic_type\": \"\",\n        \"description\": \"\"\n      }\n    },\n    {\n      \"column\": \"concrete_compressive_strength\",\n      \"properties\": {\n        \"dtype\": \"number\",\n        \"std\": 1.2529565036345023,\n        \"min\": 79.99,\n        \"max\": 82.6,\n        \"num_unique_values\": 4,\n        \"samples\": [\n          80.2\n        ],\n        \"semantic_type\": \"\",\n        \"description\": \"\"\n      }\n    }\n  ]\n}"
            }
          },
          "metadata": {},
          "execution_count": 11
        }
      ]
    },
    {
      "cell_type": "markdown",
      "source": [
        "Se identificaron valores atípicos en la variable objetivo Concrete compressive strength, los cuales corresponden a muestras con resistencias muy superiores al promedio. Estos casos extremos pueden representar mezclas altamente optimizadas o datos fuera del comportamiento habitual, y deben evaluarse cuidadosamente."
      ],
      "metadata": {
        "id": "-Tro5DTKTrUC"
      }
    },
    {
      "cell_type": "code",
      "source": [
        "# Se generará grafico para hacer mas visual los valores atipicos en la distribucion de la variable concrete_compressive_strength\n",
        "plt.figure(figsize=(5, 7))\n",
        "sns.boxplot(y=df['concrete_compressive_strength'], color='purple')\n",
        "plt.title('Boxplot La resistencia del concreto', fontsize=14)\n",
        "plt.ylabel('Resistencia del Concreto)')\n",
        "plt.grid(True)\n",
        "plt.show()"
      ],
      "metadata": {
        "colab": {
          "base_uri": "https://localhost:8080/",
          "height": 604
        },
        "id": "_UdcvPhvS-Tz",
        "outputId": "13d24c7d-2273-4d80-f6c2-f7b1538555a9"
      },
      "execution_count": 12,
      "outputs": [
        {
          "output_type": "display_data",
          "data": {
            "text/plain": [
              "<Figure size 500x700 with 1 Axes>"
            ],
            "image/png": "[encoded data removed]"
          },
          "metadata": {}
        }
      ]
    },
    {
      "cell_type": "markdown",
      "source": [
        "En este grafico podemoos visualizar la presencia de varios valores atípicos en la resistencia del concreto (Concrete compressive strength), ubicados por encima del rango superior. Estos casos corresponden a mezclas con resistencia excepcionalmente alta, lo que podría afectar el desempeño de modelos de regresión si no se tratan adecuadamente."
      ],
      "metadata": {
        "id": "0EV2MGprU6Mt"
      }
    },
    {
      "cell_type": "markdown",
      "source": [
        "#### Conclusion de los valores atipicos\n",
        "Para el caso de estos valores atipicos, se probará el eliminado a find e reducir el impacto de los datos a la mismaa esclala\n"
      ],
      "metadata": {
        "id": "dTPnbf1WVNfa"
      }
    },
    {
      "cell_type": "code",
      "source": [
        "# Eliminaremos los valores atipicos\n",
        "Q1 = df['concrete_compressive_strength'].quantile(0.25)\n",
        "Q3 = df['concrete_compressive_strength'].quantile(0.75)\n",
        "IQR = Q3 - Q1\n",
        "\n",
        "# Definiremos los límites inferior y superior\n",
        "limite_inferior = Q1 - 1.5 * IQR\n",
        "limite_superior = Q3 + 1.5 * IQR\n",
        "\n",
        "# Filtraremos los datos dentro del rango permitido\n",
        "df = df[(df['concrete_compressive_strength'] >= limite_inferior) & (df['concrete_compressive_strength'] <= limite_superior)]"
      ],
      "metadata": {
        "id": "mJ5__QfyVQDr"
      },
      "execution_count": 13,
      "outputs": []
    },
    {
      "cell_type": "code",
      "source": [
        "# Se verifica si quedaron fuera\n",
        "sns.boxplot(y=df['concrete_compressive_strength'], color='purple')"
      ],
      "metadata": {
        "colab": {
          "base_uri": "https://localhost:8080/",
          "height": 428
        },
        "id": "A0e2UqfsV79y",
        "outputId": "de64dde0-dff9-4c1d-b584-5a5e396e6b46"
      },
      "execution_count": 14,
      "outputs": [
        {
          "output_type": "execute_result",
          "data": {
            "text/plain": [
              "<Axes: ylabel='concrete_compressive_strength'>"
            ]
          },
          "metadata": {},
          "execution_count": 14
        },
        {
          "output_type": "display_data",
          "data": {
            "text/plain": [
              "<Figure size 640x480 with 1 Axes>"
            ],
            "image/png": "[encoded data removed]"
          },
          "metadata": {}
        }
      ]
    },
    {
      "cell_type": "markdown",
      "source": [
        "Se realizará una matriz de correlacion para ver la correlacion que existe entre las variables del dataset"
      ],
      "metadata": {
        "id": "bpoF8h7NImUO"
      }
    },
    {
      "cell_type": "code",
      "source": [
        "# Se filtran las variables numéricas\n",
        "df_numerico = df.select_dtypes(include=['int64', 'float64'])\n",
        "\n",
        "# Calcula la matriz de correlación sólo con variables numéricas\n",
        "matriz_correlacion = df_numerico.corr()\n",
        "\n",
        "# Crea el mapa de calor\n",
        "plt.figure(figsize=(8, 6))\n",
        "sns.heatmap(matriz_correlacion, annot=True, fmt=\".2f\", cmap=\"Purples\", square=True, linewidths=0.5)\n",
        "plt.title(\"Mapa de Calor de Correlación – Concrete Compressive Strength Dataset\", fontsize=14)\n",
        "plt.show()"
      ],
      "metadata": {
        "colab": {
          "base_uri": "https://localhost:8080/",
          "height": 753
        },
        "id": "yv8xsQJFWj-x",
        "outputId": "d77df980-0a2f-4143-fff0-77ed9b73e2c9"
      },
      "execution_count": 15,
      "outputs": [
        {
          "output_type": "display_data",
          "data": {
            "text/plain": [
              "<Figure size 800x600 with 2 Axes>"
            ],
            "image/png": "[encoded data removed]"
          },
          "metadata": {}
        }
      ]
    },
    {
      "cell_type": "markdown",
      "source": [
        "#### Analisis\n",
        "- Las variables que más se correlacionan con Concrete compressive strength son:\n",
        "    Cement (0.50) relación positiva moderada\n",
        "    Age (0.33) la resistencia aumenta con el tiempo\n",
        "    Water (correlación negativa) exceso de agua debilita el concreto\n",
        "- Superplasticizer tiene impacto indirecto al estar relacionada con Water (-0.66), lo que sugiere que ayuda a reducir la cantidad de agua sin perder trabajabilidad.\n",
        "- Blast Furnace Slag y Fly Ash muestran correlación negativa entre sí (-0.32), lo que indica que podrían usarse como sustitutos."
      ],
      "metadata": {
        "id": "BtocBa6DX0Np"
      }
    },
    {
      "cell_type": "markdown",
      "source": [
        "### Diagnóstico y Selección de Problema"
      ],
      "metadata": {
        "id": "m0LjCsFBMVJu"
      }
    },
    {
      "cell_type": "markdown",
      "source": [
        "#### Diagnostico\n",
        "- El dataset contiene ingredientes de mezclas de concreto (cemento, agua, aditivos, agregados) y su edad.\n",
        "- La variable objetivo Concrete compressive strength es numérica continua y representa la resistencia del material.\n",
        "- No hay valores nulos ni duplicados, pero se detectaron valores atípicos altos que ya fueron tratados.\n",
        "- Se observan correlaciones relevantes, como:\n",
        "- Cement y Age → relación positiva con la resistencia\n",
        "- Water → relación negativa, exceso de agua debilita la mezcla"
      ],
      "metadata": {
        "id": "ORbO8fXoZH5J"
      }
    },
    {
      "cell_type": "markdown",
      "source": [
        "#### Selección del problema: Regresión\n",
        "El objetivo será predecir la resistencia del concreto a partir de los ingredientes y su edad, usando modelos de regresión multivariable que permitan entender y estimar cómo influye cada componente en la calidad del material."
      ],
      "metadata": {
        "id": "1V9HNydgZhlY"
      }
    },
    {
      "cell_type": "markdown",
      "source": [
        "#### Justificación\n",
        "- Estimar la resistencia del concreto permite tomar decisiones de diseño estructural sin realizar pruebas destructivas. Es útil en ingeniería civil, construcción y control de calidad.\n",
        "- La relación entre ingredientes y resistencia es no lineal\n",
        "- Algunas variables tienen valores cero o muy dispersos\n",
        "-La influencia del tiempo (Age) puede variar según la composición\n",
        "- Los modelos deben captar interacciones complejas y evitar que los outliers dominen el resultado"
      ],
      "metadata": {
        "id": "VCc2gv0IZ1CA"
      }
    },
    {
      "cell_type": "markdown",
      "source": [
        "##Selección de Técnica de Machine Learning"
      ],
      "metadata": {
        "id": "BXJiHCI5_b6t"
      }
    },
    {
      "cell_type": "markdown",
      "source": [
        "###Entrenamiento Inicial:"
      ],
      "metadata": {
        "id": "0aJLqZ0k_d1_"
      }
    },
    {
      "cell_type": "code",
      "source": [
        "# Se divide la data en features y target\n",
        "X = df.drop('concrete_compressive_strength', axis=1)\n",
        "y = df['concrete_compressive_strength']"
      ],
      "metadata": {
        "id": "XwireqiQ_ih3"
      },
      "execution_count": 16,
      "outputs": []
    },
    {
      "cell_type": "code",
      "source": [
        "# Split\n",
        "X_train, X_test, y_train, y_test = train_test_split(X, y, test_size=0.2, random_state=42)"
      ],
      "metadata": {
        "id": "Pr_bPqF_Antd"
      },
      "execution_count": 17,
      "outputs": []
    },
    {
      "cell_type": "markdown",
      "source": [
        "####Modelo RandomForestRegressor"
      ],
      "metadata": {
        "id": "n-hzr8DtAaef"
      }
    },
    {
      "cell_type": "code",
      "source": [
        "pipelin_randomF = Pipeline([\n",
        "    ('scaler', StandardScaler()),\n",
        "    ('model', RandomForestRegressor(random_state=42))\n",
        "])"
      ],
      "metadata": {
        "id": "yoTUaWUjAsdy"
      },
      "execution_count": 18,
      "outputs": []
    },
    {
      "cell_type": "code",
      "source": [
        "# Entrenar.\n",
        "pipelin_randomF.fit(X_train, y_train)"
      ],
      "metadata": {
        "colab": {
          "base_uri": "https://localhost:8080/",
          "height": 154
        },
        "id": "1FRITDnfBDuO",
        "outputId": "cad5cddb-61a3-491f-fb9b-eabf13ec4a69"
      },
      "execution_count": 19,
      "outputs": [
        {
          "output_type": "execute_result",
          "data": {
            "text/plain": [
              "Pipeline(steps=[('scaler', StandardScaler()),\n",
              "                ('model', RandomForestRegressor(random_state=42))])"
            ],
            "text/html": [
              "<style>#sk-container-id-1 {\n",
              "  /* Definition of color scheme common for light and dark mode */\n",
              "  --sklearn-color-text: #000;\n",
              "  --sklearn-color-text-muted: #666;\n",
              "  --sklearn-color-line: gray;\n",
              "  /* Definition of color scheme for unfitted estimators */\n",
              "  --sklearn-color-unfitted-level-0: #fff5e6;\n",
              "  --sklearn-color-unfitted-level-1: #f6e4d2;\n",
              "  --sklearn-color-unfitted-level-2: #ffe0b3;\n",
              "  --sklearn-color-unfitted-level-3: chocolate;\n",
              "  /* Definition of color scheme for fitted estimators */\n",
              "  --sklearn-color-fitted-level-0: #f0f8ff;\n",
              "  --sklearn-color-fitted-level-1: #d4ebff;\n",
              "  --sklearn-color-fitted-level-2: #b3dbfd;\n",
              "  --sklearn-color-fitted-level-3: cornflowerblue;\n",
              "\n",
              "  /* Specific color for light theme */\n",
              "  --sklearn-color-text-on-default-background: var(--sg-text-color, var(--theme-code-foreground, var(--jp-content-font-color1, black)));\n",
              "  --sklearn-color-background: var(--sg-background-color, var(--theme-background, var(--jp-layout-color0, white)));\n",
              "  --sklearn-color-border-box: var(--sg-text-color, var(--theme-code-foreground, var(--jp-content-font-color1, black)));\n",
              "  --sklearn-color-icon: #696969;\n",
              "\n",
              "  @media (prefers-color-scheme: dark) {\n",
              "    /* Redefinition of color scheme for dark theme */\n",
              "    --sklearn-color-text-on-default-background: var(--sg-text-color, var(--theme-code-foreground, var(--jp-content-font-color1, white)));\n",
              "    --sklearn-color-background: var(--sg-background-color, var(--theme-background, var(--jp-layout-color0, #111)));\n",
              "    --sklearn-color-border-box: var(--sg-text-color, var(--theme-code-foreground, var(--jp-content-font-color1, white)));\n",
              "    --sklearn-color-icon: #878787;\n",
              "  }\n",
              "}\n",
              "\n",
              "#sk-container-id-1 {\n",
              "  color: var(--sklearn-color-text);\n",
              "}\n",
              "\n",
              "#sk-container-id-1 pre {\n",
              "  padding: 0;\n",
              "}\n",
              "\n",
              "#sk-container-id-1 input.sk-hidden--visually {\n",
              "  border: 0;\n",
              "  clip: rect(1px 1px 1px 1px);\n",
              "  clip: rect(1px, 1px, 1px, 1px);\n",
              "  height: 1px;\n",
              "  margin: -1px;\n",
              "  overflow: hidden;\n",
              "  padding: 0;\n",
              "  position: absolute;\n",
              "  width: 1px;\n",
              "}\n",
              "\n",
              "#sk-container-id-1 div.sk-dashed-wrapped {\n",
              "  border: 1px dashed var(--sklearn-color-line);\n",
              "  margin: 0 0.4em 0.5em 0.4em;\n",
              "  box-sizing: border-box;\n",
              "  padding-bottom: 0.4em;\n",
              "  background-color: var(--sklearn-color-background);\n",
              "}\n",
              "\n",
              "#sk-container-id-1 div.sk-container {\n",
              "  /* jupyter's `normalize.less` sets `[hidden] { display: none; }`\n",
              "     but bootstrap.min.css set `[hidden] { display: none !important; }`\n",
              "     so we also need the `!important` here to be able to override the\n",
              "     default hidden behavior on the sphinx rendered scikit-learn.org.\n",
              "     See: https://github.com/scikit-learn/scikit-learn/issues/21755 */\n",
              "  display: inline-block !important;\n",
              "  position: relative;\n",
              "}\n",
              "\n",
              "#sk-container-id-1 div.sk-text-repr-fallback {\n",
              "  display: none;\n",
              "}\n",
              "\n",
              "div.sk-parallel-item,\n",
              "div.sk-serial,\n",
              "div.sk-item {\n",
              "  /* draw centered vertical line to link estimators */\n",
              "  background-image: linear-gradient(var(--sklearn-color-text-on-default-background), var(--sklearn-color-text-on-default-background));\n",
              "  background-size: 2px 100%;\n",
              "  background-repeat: no-repeat;\n",
              "  background-position: center center;\n",
              "}\n",
              "\n",
              "/* Parallel-specific style estimator block */\n",
              "\n",
              "#sk-container-id-1 div.sk-parallel-item::after {\n",
              "  content: \"\";\n",
              "  width: 100%;\n",
              "  border-bottom: 2px solid var(--sklearn-color-text-on-default-background);\n",
              "  flex-grow: 1;\n",
              "}\n",
              "\n",
              "#sk-container-id-1 div.sk-parallel {\n",
              "  display: flex;\n",
              "  align-items: stretch;\n",
              "  justify-content: center;\n",
              "  background-color: var(--sklearn-color-background);\n",
              "  position: relative;\n",
              "}\n",
              "\n",
              "#sk-container-id-1 div.sk-parallel-item {\n",
              "  display: flex;\n",
              "  flex-direction: column;\n",
              "}\n",
              "\n",
              "#sk-container-id-1 div.sk-parallel-item:first-child::after {\n",
              "  align-self: flex-end;\n",
              "  width: 50%;\n",
              "}\n",
              "\n",
              "#sk-container-id-1 div.sk-parallel-item:last-child::after {\n",
              "  align-self: flex-start;\n",
              "  width: 50%;\n",
              "}\n",
              "\n",
              "#sk-container-id-1 div.sk-parallel-item:only-child::after {\n",
              "  width: 0;\n",
              "}\n",
              "\n",
              "/* Serial-specific style estimator block */\n",
              "\n",
              "#sk-container-id-1 div.sk-serial {\n",
              "  display: flex;\n",
              "  flex-direction: column;\n",
              "  align-items: center;\n",
              "  background-color: var(--sklearn-color-background);\n",
              "  padding-right: 1em;\n",
              "  padding-left: 1em;\n",
              "}\n",
              "\n",
              "\n",
              "/* Toggleable style: style used for estimator/Pipeline/ColumnTransformer box that is\n",
              "clickable and can be expanded/collapsed.\n",
              "- Pipeline and ColumnTransformer use this feature and define the default style\n",
              "- Estimators will overwrite some part of the style using the `sk-estimator` class\n",
              "*/\n",
              "\n",
              "/* Pipeline and ColumnTransformer style (default) */\n",
              "\n",
              "#sk-container-id-1 div.sk-toggleable {\n",
              "  /* Default theme specific background. It is overwritten whether we have a\n",
              "  specific estimator or a Pipeline/ColumnTransformer */\n",
              "  background-color: var(--sklearn-color-background);\n",
              "}\n",
              "\n",
              "/* Toggleable label */\n",
              "#sk-container-id-1 label.sk-toggleable__label {\n",
              "  cursor: pointer;\n",
              "  display: flex;\n",
              "  width: 100%;\n",
              "  margin-bottom: 0;\n",
              "  padding: 0.5em;\n",
              "  box-sizing: border-box;\n",
              "  text-align: center;\n",
              "  align-items: start;\n",
              "  justify-content: space-between;\n",
              "  gap: 0.5em;\n",
              "}\n",
              "\n",
              "#sk-container-id-1 label.sk-toggleable__label .caption {\n",
              "  font-size: 0.6rem;\n",
              "  font-weight: lighter;\n",
              "  color: var(--sklearn-color-text-muted);\n",
              "}\n",
              "\n",
              "#sk-container-id-1 label.sk-toggleable__label-arrow:before {\n",
              "  /* Arrow on the left of the label */\n",
              "  content: \"▸\";\n",
              "  float: left;\n",
              "  margin-right: 0.25em;\n",
              "  color: var(--sklearn-color-icon);\n",
              "}\n",
              "\n",
              "#sk-container-id-1 label.sk-toggleable__label-arrow:hover:before {\n",
              "  color: var(--sklearn-color-text);\n",
              "}\n",
              "\n",
              "/* Toggleable content - dropdown */\n",
              "\n",
              "#sk-container-id-1 div.sk-toggleable__content {\n",
              "  max-height: 0;\n",
              "  max-width: 0;\n",
              "  overflow: hidden;\n",
              "  text-align: left;\n",
              "  /* unfitted */\n",
              "  background-color: var(--sklearn-color-unfitted-level-0);\n",
              "}\n",
              "\n",
              "#sk-container-id-1 div.sk-toggleable__content.fitted {\n",
              "  /* fitted */\n",
              "  background-color: var(--sklearn-color-fitted-level-0);\n",
              "}\n",
              "\n",
              "#sk-container-id-1 div.sk-toggleable__content pre {\n",
              "  margin: 0.2em;\n",
              "  border-radius: 0.25em;\n",
              "  color: var(--sklearn-color-text);\n",
              "  /* unfitted */\n",
              "  background-color: var(--sklearn-color-unfitted-level-0);\n",
              "}\n",
              "\n",
              "#sk-container-id-1 div.sk-toggleable__content.fitted pre {\n",
              "  /* unfitted */\n",
              "  background-color: var(--sklearn-color-fitted-level-0);\n",
              "}\n",
              "\n",
              "#sk-container-id-1 input.sk-toggleable__control:checked~div.sk-toggleable__content {\n",
              "  /* Expand drop-down */\n",
              "  max-height: 200px;\n",
              "  max-width: 100%;\n",
              "  overflow: auto;\n",
              "}\n",
              "\n",
              "#sk-container-id-1 input.sk-toggleable__control:checked~label.sk-toggleable__label-arrow:before {\n",
              "  content: \"▾\";\n",
              "}\n",
              "\n",
              "/* Pipeline/ColumnTransformer-specific style */\n",
              "\n",
              "#sk-container-id-1 div.sk-label input.sk-toggleable__control:checked~label.sk-toggleable__label {\n",
              "  color: var(--sklearn-color-text);\n",
              "  background-color: var(--sklearn-color-unfitted-level-2);\n",
              "}\n",
              "\n",
              "#sk-container-id-1 div.sk-label.fitted input.sk-toggleable__control:checked~label.sk-toggleable__label {\n",
              "  background-color: var(--sklearn-color-fitted-level-2);\n",
              "}\n",
              "\n",
              "/* Estimator-specific style */\n",
              "\n",
              "/* Colorize estimator box */\n",
              "#sk-container-id-1 div.sk-estimator input.sk-toggleable__control:checked~label.sk-toggleable__label {\n",
              "  /* unfitted */\n",
              "  background-color: var(--sklearn-color-unfitted-level-2);\n",
              "}\n",
              "\n",
              "#sk-container-id-1 div.sk-estimator.fitted input.sk-toggleable__control:checked~label.sk-toggleable__label {\n",
              "  /* fitted */\n",
              "  background-color: var(--sklearn-color-fitted-level-2);\n",
              "}\n",
              "\n",
              "#sk-container-id-1 div.sk-label label.sk-toggleable__label,\n",
              "#sk-container-id-1 div.sk-label label {\n",
              "  /* The background is the default theme color */\n",
              "  color: var(--sklearn-color-text-on-default-background);\n",
              "}\n",
              "\n",
              "/* On hover, darken the color of the background */\n",
              "#sk-container-id-1 div.sk-label:hover label.sk-toggleable__label {\n",
              "  color: var(--sklearn-color-text);\n",
              "  background-color: var(--sklearn-color-unfitted-level-2);\n",
              "}\n",
              "\n",
              "/* Label box, darken color on hover, fitted */\n",
              "#sk-container-id-1 div.sk-label.fitted:hover label.sk-toggleable__label.fitted {\n",
              "  color: var(--sklearn-color-text);\n",
              "  background-color: var(--sklearn-color-fitted-level-2);\n",
              "}\n",
              "\n",
              "/* Estimator label */\n",
              "\n",
              "#sk-container-id-1 div.sk-label label {\n",
              "  font-family: monospace;\n",
              "  font-weight: bold;\n",
              "  display: inline-block;\n",
              "  line-height: 1.2em;\n",
              "}\n",
              "\n",
              "#sk-container-id-1 div.sk-label-container {\n",
              "  text-align: center;\n",
              "}\n",
              "\n",
              "/* Estimator-specific */\n",
              "#sk-container-id-1 div.sk-estimator {\n",
              "  font-family: monospace;\n",
              "  border: 1px dotted var(--sklearn-color-border-box);\n",
              "  border-radius: 0.25em;\n",
              "  box-sizing: border-box;\n",
              "  margin-bottom: 0.5em;\n",
              "  /* unfitted */\n",
              "  background-color: var(--sklearn-color-unfitted-level-0);\n",
              "}\n",
              "\n",
              "#sk-container-id-1 div.sk-estimator.fitted {\n",
              "  /* fitted */\n",
              "  background-color: var(--sklearn-color-fitted-level-0);\n",
              "}\n",
              "\n",
              "/* on hover */\n",
              "#sk-container-id-1 div.sk-estimator:hover {\n",
              "  /* unfitted */\n",
              "  background-color: var(--sklearn-color-unfitted-level-2);\n",
              "}\n",
              "\n",
              "#sk-container-id-1 div.sk-estimator.fitted:hover {\n",
              "  /* fitted */\n",
              "  background-color: var(--sklearn-color-fitted-level-2);\n",
              "}\n",
              "\n",
              "/* Specification for estimator info (e.g. \"i\" and \"?\") */\n",
              "\n",
              "/* Common style for \"i\" and \"?\" */\n",
              "\n",
              ".sk-estimator-doc-link,\n",
              "a:link.sk-estimator-doc-link,\n",
              "a:visited.sk-estimator-doc-link {\n",
              "  float: right;\n",
              "  font-size: smaller;\n",
              "  line-height: 1em;\n",
              "  font-family: monospace;\n",
              "  background-color: var(--sklearn-color-background);\n",
              "  border-radius: 1em;\n",
              "  height: 1em;\n",
              "  width: 1em;\n",
              "  text-decoration: none !important;\n",
              "  margin-left: 0.5em;\n",
              "  text-align: center;\n",
              "  /* unfitted */\n",
              "  border: var(--sklearn-color-unfitted-level-1) 1pt solid;\n",
              "  color: var(--sklearn-color-unfitted-level-1);\n",
              "}\n",
              "\n",
              ".sk-estimator-doc-link.fitted,\n",
              "a:link.sk-estimator-doc-link.fitted,\n",
              "a:visited.sk-estimator-doc-link.fitted {\n",
              "  /* fitted */\n",
              "  border: var(--sklearn-color-fitted-level-1) 1pt solid;\n",
              "  color: var(--sklearn-color-fitted-level-1);\n",
              "}\n",
              "\n",
              "/* On hover */\n",
              "div.sk-estimator:hover .sk-estimator-doc-link:hover,\n",
              ".sk-estimator-doc-link:hover,\n",
              "div.sk-label-container:hover .sk-estimator-doc-link:hover,\n",
              ".sk-estimator-doc-link:hover {\n",
              "  /* unfitted */\n",
              "  background-color: var(--sklearn-color-unfitted-level-3);\n",
              "  color: var(--sklearn-color-background);\n",
              "  text-decoration: none;\n",
              "}\n",
              "\n",
              "div.sk-estimator.fitted:hover .sk-estimator-doc-link.fitted:hover,\n",
              ".sk-estimator-doc-link.fitted:hover,\n",
              "div.sk-label-container:hover .sk-estimator-doc-link.fitted:hover,\n",
              ".sk-estimator-doc-link.fitted:hover {\n",
              "  /* fitted */\n",
              "  background-color: var(--sklearn-color-fitted-level-3);\n",
              "  color: var(--sklearn-color-background);\n",
              "  text-decoration: none;\n",
              "}\n",
              "\n",
              "/* Span, style for the box shown on hovering the info icon */\n",
              ".sk-estimator-doc-link span {\n",
              "  display: none;\n",
              "  z-index: 9999;\n",
              "  position: relative;\n",
              "  font-weight: normal;\n",
              "  right: .2ex;\n",
              "  padding: .5ex;\n",
              "  margin: .5ex;\n",
              "  width: min-content;\n",
              "  min-width: 20ex;\n",
              "  max-width: 50ex;\n",
              "  color: var(--sklearn-color-text);\n",
              "  box-shadow: 2pt 2pt 4pt #999;\n",
              "  /* unfitted */\n",
              "  background: var(--sklearn-color-unfitted-level-0);\n",
              "  border: .5pt solid var(--sklearn-color-unfitted-level-3);\n",
              "}\n",
              "\n",
              ".sk-estimator-doc-link.fitted span {\n",
              "  /* fitted */\n",
              "  background: var(--sklearn-color-fitted-level-0);\n",
              "  border: var(--sklearn-color-fitted-level-3);\n",
              "}\n",
              "\n",
              ".sk-estimator-doc-link:hover span {\n",
              "  display: block;\n",
              "}\n",
              "\n",
              "/* \"?\"-specific style due to the `<a>` HTML tag */\n",
              "\n",
              "#sk-container-id-1 a.estimator_doc_link {\n",
              "  float: right;\n",
              "  font-size: 1rem;\n",
              "  line-height: 1em;\n",
              "  font-family: monospace;\n",
              "  background-color: var(--sklearn-color-background);\n",
              "  border-radius: 1rem;\n",
              "  height: 1rem;\n",
              "  width: 1rem;\n",
              "  text-decoration: none;\n",
              "  /* unfitted */\n",
              "  color: var(--sklearn-color-unfitted-level-1);\n",
              "  border: var(--sklearn-color-unfitted-level-1) 1pt solid;\n",
              "}\n",
              "\n",
              "#sk-container-id-1 a.estimator_doc_link.fitted {\n",
              "  /* fitted */\n",
              "  border: var(--sklearn-color-fitted-level-1) 1pt solid;\n",
              "  color: var(--sklearn-color-fitted-level-1);\n",
              "}\n",
              "\n",
              "/* On hover */\n",
              "#sk-container-id-1 a.estimator_doc_link:hover {\n",
              "  /* unfitted */\n",
              "  background-color: var(--sklearn-color-unfitted-level-3);\n",
              "  color: var(--sklearn-color-background);\n",
              "  text-decoration: none;\n",
              "}\n",
              "\n",
              "#sk-container-id-1 a.estimator_doc_link.fitted:hover {\n",
              "  /* fitted */\n",
              "  background-color: var(--sklearn-color-fitted-level-3);\n",
              "}\n",
              "</style><div id=\"sk-container-id-1\" class=\"sk-top-container\"><div class=\"sk-text-repr-fallback\"><pre>Pipeline(steps=[(&#x27;scaler&#x27;, StandardScaler()),\n",
              "                (&#x27;model&#x27;, RandomForestRegressor(random_state=42))])</pre><b>In a Jupyter environment, please rerun this cell to show the HTML representation or trust the notebook. <br />On GitHub, the HTML representation is unable to render, please try loading this page with nbviewer.org.</b></div><div class=\"sk-container\" hidden><div class=\"sk-item sk-dashed-wrapped\"><div class=\"sk-label-container\"><div class=\"sk-label fitted sk-toggleable\"><input class=\"sk-toggleable__control sk-hidden--visually\" id=\"sk-estimator-id-1\" type=\"checkbox\" ><label for=\"sk-estimator-id-1\" class=\"sk-toggleable__label fitted sk-toggleable__label-arrow\"><div><div>Pipeline</div></div><div><a class=\"sk-estimator-doc-link fitted\" rel=\"noreferrer\" target=\"_blank\" href=\"https://scikit-learn.org/1.6/modules/generated/sklearn.pipeline.Pipeline.html\">?<span>Documentation for Pipeline</span></a><span class=\"sk-estimator-doc-link fitted\">i<span>Fitted</span></span></div></label><div class=\"sk-toggleable__content fitted\"><pre>Pipeline(steps=[(&#x27;scaler&#x27;, StandardScaler()),\n",
              "                (&#x27;model&#x27;, RandomForestRegressor(random_state=42))])</pre></div> </div></div><div class=\"sk-serial\"><div class=\"sk-item\"><div class=\"sk-estimator fitted sk-toggleable\"><input class=\"sk-toggleable__control sk-hidden--visually\" id=\"sk-estimator-id-2\" type=\"checkbox\" ><label for=\"sk-estimator-id-2\" class=\"sk-toggleable__label fitted sk-toggleable__label-arrow\"><div><div>StandardScaler</div></div><div><a class=\"sk-estimator-doc-link fitted\" rel=\"noreferrer\" target=\"_blank\" href=\"https://scikit-learn.org/1.6/modules/generated/sklearn.preprocessing.StandardScaler.html\">?<span>Documentation for StandardScaler</span></a></div></label><div class=\"sk-toggleable__content fitted\"><pre>StandardScaler()</pre></div> </div></div><div class=\"sk-item\"><div class=\"sk-estimator fitted sk-toggleable\"><input class=\"sk-toggleable__control sk-hidden--visually\" id=\"sk-estimator-id-3\" type=\"checkbox\" ><label for=\"sk-estimator-id-3\" class=\"sk-toggleable__label fitted sk-toggleable__label-arrow\"><div><div>RandomForestRegressor</div></div><div><a class=\"sk-estimator-doc-link fitted\" rel=\"noreferrer\" target=\"_blank\" href=\"https://scikit-learn.org/1.6/modules/generated/sklearn.ensemble.RandomForestRegressor.html\">?<span>Documentation for RandomForestRegressor</span></a></div></label><div class=\"sk-toggleable__content fitted\"><pre>RandomForestRegressor(random_state=42)</pre></div> </div></div></div></div></div></div>"
            ]
          },
          "metadata": {},
          "execution_count": 19
        }
      ]
    },
    {
      "cell_type": "code",
      "source": [
        "# Predecir y medir\n",
        "\n",
        "y_pred = pipelin_randomF.predict(X_test)\n",
        "rmse = np.sqrt(mean_squared_error(y_test, y_pred))\n",
        "r2 = r2_score(y_test, y_pred)\n",
        "\n",
        "print(f\"RMSE: {rmse:.2f}\")\n",
        "print(f\"R²: {r2:.2f}\")"
      ],
      "metadata": {
        "colab": {
          "base_uri": "https://localhost:8080/"
        },
        "id": "I7CWXooMBHUA",
        "outputId": "abfbacc1-2924-436f-c59b-7eb7d39d1908"
      },
      "execution_count": 20,
      "outputs": [
        {
          "output_type": "stream",
          "name": "stdout",
          "text": [
            "RMSE: 4.07\n",
            "R²: 0.93\n"
          ]
        }
      ]
    },
    {
      "cell_type": "markdown",
      "source": [
        "####Modelo KNN"
      ],
      "metadata": {
        "id": "UfLiCGDTChAk"
      }
    },
    {
      "cell_type": "code",
      "source": [
        "# Definición del pipeline\n",
        "pipeline_knn = Pipeline([\n",
        "    ('scaler', StandardScaler()),\n",
        "    ('knn', KNeighborsRegressor(n_neighbors=5))\n",
        "])"
      ],
      "metadata": {
        "id": "pgZ_JUVSIBFB"
      },
      "execution_count": 21,
      "outputs": []
    },
    {
      "cell_type": "code",
      "source": [
        "# Entrenamiento y predicción\n",
        "pipeline_knn.fit(X_train, y_train)\n",
        "y_pred = pipeline_knn.predict(X_test)"
      ],
      "metadata": {
        "id": "pwBAeMVlIeXA"
      },
      "execution_count": 22,
      "outputs": []
    },
    {
      "cell_type": "code",
      "source": [
        "# Métricas\n",
        "rmse = np.sqrt(mean_squared_error(y_test, y_pred))\n",
        "r2 = r2_score(y_test, y_pred)\n",
        "\n",
        "print(f\"RMSE: {rmse:.2f}\")\n",
        "print(f\"R²: {r2:.2f}\")"
      ],
      "metadata": {
        "colab": {
          "base_uri": "https://localhost:8080/"
        },
        "id": "f67HObR8IoTJ",
        "outputId": "37558404-f52a-4eb3-b688-36a722264edf"
      },
      "execution_count": 23,
      "outputs": [
        {
          "output_type": "stream",
          "name": "stdout",
          "text": [
            "RMSE: 8.92\n",
            "R²: 0.64\n"
          ]
        }
      ]
    },
    {
      "cell_type": "markdown",
      "source": [
        "####Modelo Regresion Lineal"
      ],
      "metadata": {
        "id": "_dGFfwh-I2OL"
      }
    },
    {
      "cell_type": "code",
      "source": [
        "# Definición del pipeline\n",
        "pipeline_rl = Pipeline([\n",
        "    ('scaler', StandardScaler()),\n",
        "    ('lr', LinearRegression())\n",
        "])"
      ],
      "metadata": {
        "id": "bgXC8gvMI_Xa"
      },
      "execution_count": 24,
      "outputs": []
    },
    {
      "cell_type": "code",
      "source": [
        "# Entrenamiento y predicción\n",
        "pipeline_rl.fit(X_train, y_train)\n",
        "y_pred = pipeline_rl.predict(X_test)"
      ],
      "metadata": {
        "id": "pxAzB32fJCBs"
      },
      "execution_count": 25,
      "outputs": []
    },
    {
      "cell_type": "code",
      "source": [
        "# Métricas\n",
        "rmse = np.sqrt(mean_squared_error(y_test, y_pred))\n",
        "r2 = r2_score(y_test, y_pred)\n",
        "\n",
        "print(f\"RMSE: {rmse:.2f}\")\n",
        "print(f\"R²: {r2:.2f}\")"
      ],
      "metadata": {
        "colab": {
          "base_uri": "https://localhost:8080/"
        },
        "id": "wVKJ44wLJFK0",
        "outputId": "448099cb-8c28-4d78-89c7-ffa57aeffc9b"
      },
      "execution_count": 26,
      "outputs": [
        {
          "output_type": "stream",
          "name": "stdout",
          "text": [
            "RMSE: 9.92\n",
            "R²: 0.56\n"
          ]
        }
      ]
    },
    {
      "cell_type": "markdown",
      "source": [
        "###Evaluación de modelos con validación cruzada"
      ],
      "metadata": {
        "id": "IKFy2A9vJjwr"
      }
    },
    {
      "cell_type": "markdown",
      "source": [
        "#### RandomForest"
      ],
      "metadata": {
        "id": "baA_48zI2THN"
      }
    },
    {
      "cell_type": "code",
      "source": [
        "# Se crea el pipeline con escalado y modelo utilizado\n",
        "pipe_rf = Pipeline([\n",
        "    ('scaler', StandardScaler()),\n",
        "    ('Rf', RandomForestRegressor(random_state=42))\n",
        "])"
      ],
      "metadata": {
        "id": "AgKTUBWp2aMN"
      },
      "execution_count": 40,
      "outputs": []
    },
    {
      "cell_type": "code",
      "source": [
        "# Se aplica el cross_val_scroe para la validacion cruzada con 5 folds(particiion del dataset) y RMSE como la metrica\n",
        "score_randomF = cross_val_score(pipe_rf, X, y, cv=5, scoring='neg_root_mean_squared_error')\n"
      ],
      "metadata": {
        "id": "h7Egch10JpOi"
      },
      "execution_count": 41,
      "outputs": []
    },
    {
      "cell_type": "code",
      "source": [
        "# Se muestra por consola el RMSEprimedio y la desv estandar\n",
        "print(\"Random Forest - RMSE promedio:\", -score_randomF.mean())\n",
        "print(\"Random Forest - Desviación estándar:\", score_randomF.std())"
      ],
      "metadata": {
        "id": "_PWOH4xJJufy",
        "colab": {
          "base_uri": "https://localhost:8080/"
        },
        "outputId": "3365b0f1-846f-4f0a-915d-1edc73107fd1"
      },
      "execution_count": 42,
      "outputs": [
        {
          "output_type": "stream",
          "name": "stdout",
          "text": [
            "Random Forest - RMSE promedio: 10.093682265688837\n",
            "Random Forest - Desviación estándar: 4.298667532019964\n"
          ]
        }
      ]
    },
    {
      "cell_type": "markdown",
      "source": [
        "####KNNRegresor"
      ],
      "metadata": {
        "id": "FJMv5bfx3rhM"
      }
    },
    {
      "cell_type": "code",
      "source": [
        "# Se crea el pipeline con escalado y modelo utilizado\n",
        "pipe_knn = Pipeline([\n",
        "    ('scaler', StandardScaler()),\n",
        "    ('knn', KNeighborsRegressor())\n",
        "])"
      ],
      "metadata": {
        "id": "y8o28_ba3u2e"
      },
      "execution_count": 32,
      "outputs": []
    },
    {
      "cell_type": "code",
      "source": [
        "# Se aplica el cross_val_scroe para la validacion cruzada con 5 folds(particiion del dataset) y RMSE como la metrica\n",
        "scores_knn = cross_val_score(pipe_knn, X, y, cv=5, scoring='neg_root_mean_squared_error')"
      ],
      "metadata": {
        "id": "lxLX3uLD3yhE"
      },
      "execution_count": 33,
      "outputs": []
    },
    {
      "cell_type": "code",
      "source": [
        "#Se muestra or consola el RMSE promedio y la desviación estandar\n",
        "print(\"KNN - RMSE promedio:\", -scores_knn.mean())\n",
        "print(\"KNN - Desviación estándar:\", scores_knn.std())"
      ],
      "metadata": {
        "colab": {
          "base_uri": "https://localhost:8080/"
        },
        "id": "9B2aQulO31fd",
        "outputId": "edef7a3b-28de-4513-d059-5dea2f59925b"
      },
      "execution_count": 34,
      "outputs": [
        {
          "output_type": "stream",
          "name": "stdout",
          "text": [
            "KNN - RMSE promedio: 12.033250758791558\n",
            "KNN - Desviación estándar: 1.4033196410318483\n"
          ]
        }
      ]
    },
    {
      "cell_type": "markdown",
      "source": [
        "####RegresionLineal"
      ],
      "metadata": {
        "id": "d4hqqdqo4YnU"
      }
    },
    {
      "cell_type": "code",
      "source": [
        "# Se crea el pipeline con escalado y modelo utilizado\n",
        "pipe_rl = Pipeline([\n",
        "    ('scaler', StandardScaler()),\n",
        "    ('rl', LinearRegression())\n",
        "])"
      ],
      "metadata": {
        "id": "js8HHqRc4dEf"
      },
      "execution_count": 36,
      "outputs": []
    },
    {
      "cell_type": "code",
      "source": [
        "# Se aplica el cross_val_scroe para la validacion cruzada con 5 folds(particiion del dataset) y RMSE como la metrica\n",
        "scores_rl = cross_val_score(pipe_rl, X, y, cv=5, scoring='neg_root_mean_squared_error')\n"
      ],
      "metadata": {
        "id": "j9W8tehJ4jDT"
      },
      "execution_count": 37,
      "outputs": []
    },
    {
      "cell_type": "code",
      "source": [
        "#Se muestra por consola el RMSE promedio y la desviación estandar\n",
        "print(\"Regresión Lineal - RMSE promedio:\", -scores_rl.mean())\n",
        "print(\"Regresión Lineal - Desviación estándar:\", scores_rl.std())"
      ],
      "metadata": {
        "colab": {
          "base_uri": "https://localhost:8080/"
        },
        "id": "t0zkudUd4oQb",
        "outputId": "3f3845f9-6ca7-4b91-957a-09d2e5c51682"
      },
      "execution_count": 38,
      "outputs": [
        {
          "output_type": "stream",
          "name": "stdout",
          "text": [
            "Regresión Lineal - RMSE promedio: 10.994165822549224\n",
            "Regresión Lineal - Desviación estándar: 1.9304840604419327\n"
          ]
        }
      ]
    },
    {
      "cell_type": "code",
      "source": [
        "# Diccionario con resultados para comparar\n",
        "rmse_dict = {\n",
        "    'Random Forest': score_randomF,\n",
        "    'KNN': scores_knn,\n",
        "    'Regresión Lineal': scores_rl\n",
        "}\n",
        "\n",
        "print(\"RMSE promedio por modelo:\")\n",
        "print(\"Random Forest:\", rmse_dict['Random Forest'])\n",
        "print(\"KNN:\", rmse_dict['KNN'])\n",
        "print(\"Regresión Lineal:\", rmse_dict['Regresión Lineal'])"
      ],
      "metadata": {
        "colab": {
          "base_uri": "https://localhost:8080/"
        },
        "id": "Sg8Yywxp5Iz5",
        "outputId": "c3e486b6-5c29-42f8-fad1-09723998ac91"
      },
      "execution_count": 52,
      "outputs": [
        {
          "output_type": "stream",
          "name": "stdout",
          "text": [
            "RMSE promedio por modelo:\n",
            "Random Forest: [ -9.80377296  -8.18918352  -7.78654325  -6.29355932 -18.39535228]\n",
            "KNN: [-13.97276634 -12.8222988  -11.76108017  -9.71620109 -11.89390739]\n",
            "Regresión Lineal: [-14.21148878 -11.64011181 -11.07366547  -9.23062529  -8.81493776]\n"
          ]
        }
      ]
    },
    {
      "cell_type": "markdown",
      "source": [
        "#### Analisis\n",
        "El randomforest tiene el promedio mas bajo, lo que nos indica que precide con mayor precision pero su rendimiento depende del subconjunto de datos, por la variabilidad en los folds\n",
        "El knn tiene comportamiento mas consistente pero su RMSE es mas alto\n",
        "Y por ultimo Regresion lineal tiene un rendimiento intermedio\n",
        "\n",
        "Respecto al mejor modelo es el Random Forest en cuanto a rendimiento promedio."
      ],
      "metadata": {
        "id": "8Ivtj7zp6XwE"
      }
    },
    {
      "cell_type": "markdown",
      "source": [
        "### Optimización de Hiperparámetros"
      ],
      "metadata": {
        "id": "WuIw-M81LiFK"
      }
    },
    {
      "cell_type": "markdown",
      "source": [
        "#### GridSearchCV"
      ],
      "metadata": {
        "id": "GvhrTNXwLo4h"
      }
    },
    {
      "cell_type": "code",
      "source": [
        "# GridSearchCV para Random Forest\n",
        "\n",
        "pipe_rf = Pipeline([\n",
        "    ('scaler', StandardScaler()),\n",
        "    ('rf', RandomForestRegressor(random_state=42))\n",
        "])\n",
        "\n",
        "parametros_rf = {\n",
        "    'rf__n_estimators': [50, 100, 200],\n",
        "    'rf__max_depth': [None, 10, 20]\n",
        "}\n",
        "\n",
        "grid_rf = GridSearchCV(pipe_rf, parametros_rf, cv=5, scoring='neg_root_mean_squared_error', n_jobs=-1)\n",
        "grid_rf.fit(X, y)\n",
        "print(\"Random Forest - Mejor RMSE:\", -grid_rf.best_score_)"
      ],
      "metadata": {
        "id": "c_gYLy9-Ll_K",
        "colab": {
          "base_uri": "https://localhost:8080/"
        },
        "outputId": "68b5c233-f6a0-4358-8495-54d4666f0370"
      },
      "execution_count": 55,
      "outputs": [
        {
          "output_type": "stream",
          "name": "stdout",
          "text": [
            "Random Forest - Mejor RMSE: 10.050373811349532\n"
          ]
        }
      ]
    },
    {
      "cell_type": "code",
      "source": [
        "pipe_knn = Pipeline([\n",
        "    ('scaler', StandardScaler()),\n",
        "    ('knn', KNeighborsRegressor())\n",
        "])\n",
        "\n",
        "param_knn = {\n",
        "    'knn__n_neighbors': [3, 5, 7, 9, 11],\n",
        "    'knn__p': [1, 2]\n",
        "}\n",
        "\n",
        "grid_knn = GridSearchCV(pipe_knn, param_knn, cv=5, scoring='neg_root_mean_squared_error', n_jobs=-1)\n",
        "grid_knn.fit(X, y)\n",
        "print(\"KNN - Mejor RMSE:\", -grid_knn.best_score_)"
      ],
      "metadata": {
        "colab": {
          "base_uri": "https://localhost:8080/"
        },
        "id": "g9_2Veo28Wuu",
        "outputId": "c19adfef-4427-46d2-9b93-d7b40c961a81"
      },
      "execution_count": 57,
      "outputs": [
        {
          "output_type": "stream",
          "name": "stdout",
          "text": [
            "KNN - Mejor RMSE: 11.707309337789239\n"
          ]
        }
      ]
    },
    {
      "cell_type": "code",
      "source": [
        "pipe_lr = Pipeline([\n",
        "    ('scaler', StandardScaler()),\n",
        "    ('ridge', Ridge())\n",
        "])\n",
        "\n",
        "param_lr = {\n",
        "    'ridge__alpha': [0.01, 0.1, 1, 10, 100]\n",
        "}\n",
        "\n",
        "grid_lr = GridSearchCV(pipe_lr, param_lr, cv=5, scoring='neg_root_mean_squared_error', n_jobs=-1)\n",
        "grid_lr.fit(X, y)\n",
        "print(\"Regresión Lineal - Mejor RMSE:\", -grid_lr.best_score_)"
      ],
      "metadata": {
        "colab": {
          "base_uri": "https://localhost:8080/"
        },
        "id": "Lq5QF_Vg8XCH",
        "outputId": "cfdd681b-3c17-4a1e-c885-b5b46a5c6429"
      },
      "execution_count": 62,
      "outputs": [
        {
          "output_type": "stream",
          "name": "stdout",
          "text": [
            "Regresión Lineal - Mejor RMSE: 10.974700715377132\n"
          ]
        }
      ]
    },
    {
      "cell_type": "markdown",
      "source": [
        "#### Comparación entre los modelos optimizado por GridSearchCV"
      ],
      "metadata": {
        "id": "D9Sadh6i--dz"
      }
    },
    {
      "cell_type": "code",
      "source": [
        "mejor_modelo = min([\n",
        "    (\"Random Forest\", -grid_rf.best_score_),\n",
        "    (\"KNN\", -grid_knn.best_score_),\n",
        "    (\"Regresión Lineal\", -grid_lr.best_score_)\n",
        "], key=lambda x: x[1])\n",
        "\n",
        "print(f\"Mejor modelo optimizado: {mejor_modelo[0]} con RMSE de {mejor_modelo[1]:.2f}\")"
      ],
      "metadata": {
        "colab": {
          "base_uri": "https://localhost:8080/"
        },
        "id": "XyxpqeP6_Em8",
        "outputId": "bc0f35b4-ae58-4308-d1be-a73a39cd2931"
      },
      "execution_count": 68,
      "outputs": [
        {
          "output_type": "stream",
          "name": "stdout",
          "text": [
            "Mejor modelo optimizado: Random Forest con RMSE de 10.05\n"
          ]
        }
      ]
    },
    {
      "cell_type": "markdown",
      "source": [
        "####RandomizedSearchCV"
      ],
      "metadata": {
        "id": "IqXWHZti_l77"
      }
    },
    {
      "cell_type": "code",
      "source": [
        "# RandomizedSearchCV para Random Forest\n",
        "\n",
        "param_rf = {\n",
        "    'rf__n_estimators': [50, 100, 200, 300],\n",
        "    'rf__max_depth': [None, 10, 20, 30],\n",
        "    'rf__min_samples_split': [2, 5, 10],\n",
        "    'rf__min_samples_leaf': [1, 2, 4]\n",
        "}\n",
        "\n",
        "rnd_rf = RandomizedSearchCV(pipe_rf, param_distributions=param_rf, cv=5, n_iter=10, scoring='neg_root_mean_squared_error', random_state=42, n_jobs=-1)\n",
        "rnd_rf.fit(X, y)\n",
        "print(\"Mejor RMSE - Random Forest:\", -rnd_rf.best_score_)"
      ],
      "metadata": {
        "colab": {
          "base_uri": "https://localhost:8080/"
        },
        "id": "Q-hlzcLy_pqr",
        "outputId": "576c6301-dcce-4959-9e65-69b2d21ef4de"
      },
      "execution_count": 71,
      "outputs": [
        {
          "output_type": "stream",
          "name": "stdout",
          "text": [
            "Mejor RMSE - Random Forest: 10.252341482033344\n"
          ]
        }
      ]
    },
    {
      "cell_type": "code",
      "source": [
        "#  RandomizedSearchCV para KNN Regressor\n",
        "\n",
        "param_knn = {\n",
        "    'knn__n_neighbors': range(3, 20),\n",
        "    'knn__weights': ['uniform', 'distance'],\n",
        "    'knn__p': [1, 2]\n",
        "}\n",
        "\n",
        "rnd_knn = RandomizedSearchCV(pipe_knn, param_distributions=param_knn, cv=5, n_iter=10, scoring='neg_root_mean_squared_error', random_state=42, n_jobs=-1)\n",
        "rnd_knn.fit(X, y)\n",
        "print(\"Mejor RMSE - KNN:\", -rnd_knn.best_score_)"
      ],
      "metadata": {
        "colab": {
          "base_uri": "https://localhost:8080/"
        },
        "id": "CGJNlo_f_-P9",
        "outputId": "3beb7e13-d38b-4584-a1a8-f45d5a72ab5f"
      },
      "execution_count": 72,
      "outputs": [
        {
          "output_type": "stream",
          "name": "stdout",
          "text": [
            "Mejor RMSE - KNN: 11.568082040446479\n"
          ]
        }
      ]
    },
    {
      "cell_type": "code",
      "source": [
        "#  RandomizedSearchCV para Regresion Lineal\n",
        "\n",
        "param_lr = {\n",
        "    'ridge__alpha': np.logspace(-3, 3, 20)  # Valores de regularización entre 0.001 y 1000\n",
        "}\n",
        "\n",
        "rnd_lr = RandomizedSearchCV(pipe_lr, param_distributions=param_lr, cv=5, n_iter=10, scoring='neg_root_mean_squared_error', random_state=42, n_jobs=-1)\n",
        "rnd_lr.fit(X, y)\n",
        "print(\"Mejor RMSE - Ridge:\", -rnd_lr.best_score_)"
      ],
      "metadata": {
        "colab": {
          "base_uri": "https://localhost:8080/"
        },
        "id": "f8A4bwCdAImb",
        "outputId": "8390fbff-41e1-43e5-8100-815ac361ed1f"
      },
      "execution_count": 73,
      "outputs": [
        {
          "output_type": "stream",
          "name": "stdout",
          "text": [
            "Mejor RMSE - Ridge: 10.979802168652114\n"
          ]
        }
      ]
    },
    {
      "cell_type": "markdown",
      "source": [
        "####"
      ],
      "metadata": {
        "id": "ofWba1M8BnqS"
      }
    },
    {
      "cell_type": "markdown",
      "source": [
        "####Comparación entre los modelos optimizado por RandomizedSearchCV"
      ],
      "metadata": {
        "id": "FLUAsymUBhKA"
      }
    },
    {
      "cell_type": "code",
      "source": [
        "mejor_modelo = min([\n",
        "    (\"Random Forest\", -rnd_rf.best_score_),\n",
        "    (\"KNN\", -rnd_knn.best_score_),\n",
        "    (\"Regresión Lineal\", -rnd_lr.best_score_)\n",
        "], key=lambda x: x[1])\n",
        "\n",
        "print(f\"Mejor modelo optimizado: {mejor_modelo[0]} con RMSE de {mejor_modelo[1]:.2f}\")"
      ],
      "metadata": {
        "colab": {
          "base_uri": "https://localhost:8080/"
        },
        "id": "QfIDfJWGAoVj",
        "outputId": "aa912169-9530-49c8-f443-8fc0d67193a0"
      },
      "execution_count": 74,
      "outputs": [
        {
          "output_type": "stream",
          "name": "stdout",
          "text": [
            "Mejor modelo optimizado: Random Forest con RMSE de 10.25\n"
          ]
        }
      ]
    },
    {
      "cell_type": "markdown",
      "source": [],
      "metadata": {
        "id": "bLII4Tf9Bz6p"
      }
    },
    {
      "cell_type": "markdown",
      "source": [
        "####Optuna"
      ],
      "metadata": {
        "id": "KF4EvchkB1sp"
      }
    },
    {
      "cell_type": "code",
      "source": [
        "# Optuna con Random Forest\n",
        "\n",
        "# Se crea el estudio\n",
        "estudio_rf = optuna.create_study(direction='minimize')\n",
        "\n",
        "# Se define labusqueda manual\n",
        "def ejecutar_trial(trial):\n",
        "    n_estimators = trial.suggest_int('n_estimators', 50, 300)\n",
        "    max_depth = trial.suggest_int('max_depth', 5, 30)\n",
        "\n",
        "    modelo_rfO = Pipeline([\n",
        "        ('scaler', StandardScaler()),\n",
        "        ('rf', RandomForestRegressor(n_estimators=n_estimators,max_depth=max_depth,random_state=42\n",
        "        ))\n",
        "    ])\n",
        "\n",
        "    puntajes = cross_val_score(modelo_rfO, X, y, cv=5, scoring='neg_root_mean_squared_error')\n",
        "    rmse_promedio = -puntajes.mean()\n",
        "    return rmse_promedio\n",
        "\n",
        "# Se ejecuta la optimización paso a paso\n",
        "estudio_rf.optimize(ejecutar_trial, n_trials=50)\n",
        "\n",
        "# Se muestran resultados\n",
        "print(\"Mejor RMSE:\", estudio_rf.best_value)\n",
        "print(\"Mejores parámetros:\", estudio_rf.best_params)"
      ],
      "metadata": {
        "colab": {
          "base_uri": "https://localhost:8080/"
        },
        "id": "fuukBB9xB6nX",
        "outputId": "981e0d11-b5dd-49e2-e5c6-47cfb85cbaad"
      },
      "execution_count": 83,
      "outputs": [
        {
          "output_type": "stream",
          "name": "stderr",
          "text": [
            "[I 2025-07-22 21:44:36,987] A new study created in memory with name: no-name-c307b72f-2d7f-4357-9f2b-0f2a5a61e946\n",
            "[I 2025-07-22 21:44:40,207] Trial 0 finished with value: 10.861619150019488 and parameters: {'n_estimators': 190, 'max_depth': 6}. Best is trial 0 with value: 10.861619150019488.\n",
            "[I 2025-07-22 21:44:45,721] Trial 1 finished with value: 10.098616531490062 and parameters: {'n_estimators': 228, 'max_depth': 13}. Best is trial 1 with value: 10.098616531490062.\n",
            "[I 2025-07-22 21:44:47,976] Trial 2 finished with value: 10.071491947292987 and parameters: {'n_estimators': 60, 'max_depth': 28}. Best is trial 2 with value: 10.071491947292987.\n",
            "[I 2025-07-22 21:44:58,191] Trial 3 finished with value: 10.081048198897514 and parameters: {'n_estimators': 266, 'max_depth': 21}. Best is trial 2 with value: 10.071491947292987.\n",
            "[I 2025-07-22 21:45:00,267] Trial 4 finished with value: 10.10339536776711 and parameters: {'n_estimators': 88, 'max_depth': 22}. Best is trial 2 with value: 10.071491947292987.\n",
            "[I 2025-07-22 21:45:05,032] Trial 5 finished with value: 10.129173022000122 and parameters: {'n_estimators': 196, 'max_depth': 10}. Best is trial 2 with value: 10.071491947292987.\n",
            "[I 2025-07-22 21:45:11,830] Trial 6 finished with value: 10.087295252464674 and parameters: {'n_estimators': 271, 'max_depth': 23}. Best is trial 2 with value: 10.071491947292987.\n",
            "[I 2025-07-22 21:45:15,157] Trial 7 finished with value: 10.073733519583277 and parameters: {'n_estimators': 153, 'max_depth': 11}. Best is trial 2 with value: 10.071491947292987.\n",
            "[I 2025-07-22 21:45:21,420] Trial 8 finished with value: 10.251381721167855 and parameters: {'n_estimators': 257, 'max_depth': 9}. Best is trial 2 with value: 10.071491947292987.\n",
            "[I 2025-07-22 21:45:23,067] Trial 9 finished with value: 10.200664191304336 and parameters: {'n_estimators': 71, 'max_depth': 13}. Best is trial 2 with value: 10.071491947292987.\n",
            "[I 2025-07-22 21:45:26,063] Trial 10 finished with value: 10.053414581426932 and parameters: {'n_estimators': 127, 'max_depth': 30}. Best is trial 10 with value: 10.053414581426932.\n",
            "[I 2025-07-22 21:45:29,079] Trial 11 finished with value: 10.05234858681669 and parameters: {'n_estimators': 128, 'max_depth': 30}. Best is trial 11 with value: 10.05234858681669.\n",
            "[I 2025-07-22 21:45:33,453] Trial 12 finished with value: 10.05234858681669 and parameters: {'n_estimators': 128, 'max_depth': 30}. Best is trial 11 with value: 10.05234858681669.\n",
            "[I 2025-07-22 21:45:36,608] Trial 13 finished with value: 10.079692586547228 and parameters: {'n_estimators': 118, 'max_depth': 26}. Best is trial 11 with value: 10.05234858681669.\n",
            "[I 2025-07-22 21:45:40,162] Trial 14 finished with value: 10.071325401267268 and parameters: {'n_estimators': 152, 'max_depth': 18}. Best is trial 11 with value: 10.05234858681669.\n",
            "[I 2025-07-22 21:45:43,147] Trial 15 finished with value: 10.053257256333094 and parameters: {'n_estimators': 104, 'max_depth': 26}. Best is trial 11 with value: 10.05234858681669.\n",
            "[I 2025-07-22 21:45:48,858] Trial 16 finished with value: 10.087387584568091 and parameters: {'n_estimators': 154, 'max_depth': 30}. Best is trial 11 with value: 10.05234858681669.\n",
            "[I 2025-07-22 21:45:55,150] Trial 17 finished with value: 10.070368078108364 and parameters: {'n_estimators': 216, 'max_depth': 18}. Best is trial 11 with value: 10.05234858681669.\n",
            "[I 2025-07-22 21:46:08,232] Trial 18 finished with value: 10.086918833823821 and parameters: {'n_estimators': 300, 'max_depth': 25}. Best is trial 11 with value: 10.05234858681669.\n",
            "[I 2025-07-22 21:46:13,339] Trial 19 finished with value: 10.059531963310597 and parameters: {'n_estimators': 132, 'max_depth': 28}. Best is trial 11 with value: 10.05234858681669.\n",
            "[I 2025-07-22 21:46:19,540] Trial 20 finished with value: 10.119975033115562 and parameters: {'n_estimators': 81, 'max_depth': 21}. Best is trial 11 with value: 10.05234858681669.\n",
            "[I 2025-07-22 21:46:22,069] Trial 21 finished with value: 10.09504017699771 and parameters: {'n_estimators': 101, 'max_depth': 26}. Best is trial 11 with value: 10.05234858681669.\n",
            "[I 2025-07-22 21:46:25,392] Trial 22 finished with value: 10.0832105340745 and parameters: {'n_estimators': 108, 'max_depth': 30}. Best is trial 11 with value: 10.05234858681669.\n",
            "[I 2025-07-22 21:46:28,928] Trial 23 finished with value: 10.032909230961344 and parameters: {'n_estimators': 139, 'max_depth': 28}. Best is trial 23 with value: 10.032909230961344.\n",
            "[I 2025-07-22 21:46:33,205] Trial 24 finished with value: 10.032909230961344 and parameters: {'n_estimators': 139, 'max_depth': 28}. Best is trial 23 with value: 10.032909230961344.\n",
            "[I 2025-07-22 21:46:37,648] Trial 25 finished with value: 10.071802183350231 and parameters: {'n_estimators': 171, 'max_depth': 24}. Best is trial 23 with value: 10.032909230961344.\n",
            "[I 2025-07-22 21:46:41,714] Trial 26 finished with value: 10.068282820545033 and parameters: {'n_estimators': 172, 'max_depth': 28}. Best is trial 23 with value: 10.032909230961344.\n",
            "[I 2025-07-22 21:46:46,423] Trial 27 finished with value: 10.060570413756787 and parameters: {'n_estimators': 145, 'max_depth': 28}. Best is trial 23 with value: 10.032909230961344.\n",
            "[I 2025-07-22 21:46:52,959] Trial 28 finished with value: 10.067993055106973 and parameters: {'n_estimators': 195, 'max_depth': 20}. Best is trial 23 with value: 10.032909230961344.\n",
            "[I 2025-07-22 21:46:55,353] Trial 29 finished with value: 11.423663680098926 and parameters: {'n_estimators': 174, 'max_depth': 5}. Best is trial 23 with value: 10.032909230961344.\n",
            "[I 2025-07-22 21:46:56,888] Trial 30 finished with value: 10.087148098226379 and parameters: {'n_estimators': 51, 'max_depth': 24}. Best is trial 23 with value: 10.032909230961344.\n",
            "[I 2025-07-22 21:47:01,032] Trial 31 finished with value: 10.056299409990388 and parameters: {'n_estimators': 135, 'max_depth': 30}. Best is trial 23 with value: 10.032909230961344.\n",
            "[I 2025-07-22 21:47:03,730] Trial 32 finished with value: 10.110820402263059 and parameters: {'n_estimators': 114, 'max_depth': 27}. Best is trial 23 with value: 10.032909230961344.\n",
            "[I 2025-07-22 21:47:05,839] Trial 33 finished with value: 10.079604888627003 and parameters: {'n_estimators': 89, 'max_depth': 29}. Best is trial 23 with value: 10.032909230961344.\n",
            "[I 2025-07-22 21:47:09,083] Trial 34 finished with value: 10.035585150213171 and parameters: {'n_estimators': 139, 'max_depth': 16}. Best is trial 23 with value: 10.032909230961344.\n",
            "[I 2025-07-22 21:47:14,171] Trial 35 finished with value: 10.0787672047563 and parameters: {'n_estimators': 161, 'max_depth': 16}. Best is trial 23 with value: 10.032909230961344.\n",
            "[I 2025-07-22 21:47:18,443] Trial 36 finished with value: 10.063089267539295 and parameters: {'n_estimators': 184, 'max_depth': 15}. Best is trial 23 with value: 10.032909230961344.\n",
            "[I 2025-07-22 21:47:23,449] Trial 37 finished with value: 10.075296626789816 and parameters: {'n_estimators': 215, 'max_depth': 19}. Best is trial 23 with value: 10.032909230961344.\n",
            "[I 2025-07-22 21:47:27,999] Trial 38 finished with value: 10.006026115808968 and parameters: {'n_estimators': 140, 'max_depth': 15}. Best is trial 38 with value: 10.006026115808968.\n",
            "[I 2025-07-22 21:47:31,312] Trial 39 finished with value: 10.020242770929029 and parameters: {'n_estimators': 143, 'max_depth': 15}. Best is trial 38 with value: 10.006026115808968.\n",
            "[I 2025-07-22 21:47:34,998] Trial 40 finished with value: 10.102423664807871 and parameters: {'n_estimators': 162, 'max_depth': 13}. Best is trial 38 with value: 10.006026115808968.\n",
            "[I 2025-07-22 21:47:38,519] Trial 41 finished with value: 10.04714344932615 and parameters: {'n_estimators': 140, 'max_depth': 16}. Best is trial 38 with value: 10.006026115808968.\n",
            "[I 2025-07-22 21:47:42,829] Trial 42 finished with value: 10.09540963934005 and parameters: {'n_estimators': 144, 'max_depth': 13}. Best is trial 38 with value: 10.006026115808968.\n",
            "[I 2025-07-22 21:47:45,823] Trial 43 finished with value: 10.064015921688044 and parameters: {'n_estimators': 118, 'max_depth': 11}. Best is trial 38 with value: 10.006026115808968.\n",
            "[I 2025-07-22 21:47:48,106] Trial 44 finished with value: 10.019206146361196 and parameters: {'n_estimators': 97, 'max_depth': 15}. Best is trial 38 with value: 10.006026115808968.\n",
            "[I 2025-07-22 21:47:49,885] Trial 45 finished with value: 10.27033865061686 and parameters: {'n_estimators': 97, 'max_depth': 8}. Best is trial 38 with value: 10.006026115808968.\n",
            "[I 2025-07-22 21:47:51,847] Trial 46 finished with value: 10.042984757511613 and parameters: {'n_estimators': 81, 'max_depth': 15}. Best is trial 38 with value: 10.006026115808968.\n",
            "[I 2025-07-22 21:47:57,299] Trial 47 finished with value: 10.080839442169173 and parameters: {'n_estimators': 184, 'max_depth': 14}. Best is trial 38 with value: 10.006026115808968.\n",
            "[I 2025-07-22 21:47:58,914] Trial 48 finished with value: 10.15238222473798 and parameters: {'n_estimators': 68, 'max_depth': 17}. Best is trial 38 with value: 10.006026115808968.\n",
            "[I 2025-07-22 21:48:01,625] Trial 49 finished with value: 10.041697970914129 and parameters: {'n_estimators': 125, 'max_depth': 11}. Best is trial 38 with value: 10.006026115808968.\n"
          ]
        },
        {
          "output_type": "stream",
          "name": "stdout",
          "text": [
            "Mejor RMSE: 10.006026115808968\n",
            "Mejores parámetros: {'n_estimators': 140, 'max_depth': 15}\n"
          ]
        }
      ]
    },
    {
      "cell_type": "code",
      "source": [
        "# Optuna con KNN Regressor\n",
        "\n",
        "# Se crea estudio\n",
        "estudio_knn = optuna.create_study(direction='minimize')\n",
        "\n",
        "# Se define y evalua directo\n",
        "def ejecutar_trial_knn(trial):\n",
        "    n_neighbors = trial.suggest_int('n_neighbors', 3, 20)\n",
        "    weights = trial.suggest_categorical('weights', ['uniform', 'distance'])\n",
        "    p = trial.suggest_int('p', 1, 2)\n",
        "\n",
        "    modelo = Pipeline([\n",
        "        ('scaler', StandardScaler()),\n",
        "        ('knn', KNeighborsRegressor(\n",
        "            n_neighbors=n_neighbors,\n",
        "            weights=weights,\n",
        "            p=p\n",
        "        ))\n",
        "    ])\n",
        "    puntajes = cross_val_score(modelo, X, y, cv=5, scoring='neg_root_mean_squared_error')\n",
        "    rmse_prom = -puntajes.mean()\n",
        "    return rmse_prom\n",
        "\n",
        "# Se ejecuta paso a paso\n",
        "estudio_knn.optimize(ejecutar_trial_knn, n_trials=50)\n",
        "\n",
        "# Se muestran los resultados\n",
        "print(\"🎯 KNN - Mejor RMSE:\", estudio_knn.best_value)\n",
        "print(\"🔧 Mejores parámetros:\", estudio_knn.best_params)"
      ],
      "metadata": {
        "colab": {
          "base_uri": "https://localhost:8080/"
        },
        "id": "oVIbeM59CJ7X",
        "outputId": "44cd1641-9ea9-40fa-eb05-2df54a66f694"
      },
      "execution_count": 79,
      "outputs": [
        {
          "output_type": "stream",
          "name": "stderr",
          "text": [
            "[I 2025-07-22 21:39:19,728] A new study created in memory with name: no-name-b280b5b0-9ab9-4936-8314-4fd1ad374629\n",
            "[I 2025-07-22 21:39:19,786] Trial 0 finished with value: 12.022120423357427 and parameters: {'n_neighbors': 4, 'weights': 'distance', 'p': 2}. Best is trial 0 with value: 12.022120423357427.\n",
            "[I 2025-07-22 21:39:19,839] Trial 1 finished with value: 11.919662983278105 and parameters: {'n_neighbors': 9, 'weights': 'uniform', 'p': 2}. Best is trial 1 with value: 11.919662983278105.\n",
            "[I 2025-07-22 21:39:19,895] Trial 2 finished with value: 12.090325045980526 and parameters: {'n_neighbors': 17, 'weights': 'uniform', 'p': 2}. Best is trial 1 with value: 11.919662983278105.\n",
            "[I 2025-07-22 21:39:19,957] Trial 3 finished with value: 11.876776328605338 and parameters: {'n_neighbors': 18, 'weights': 'uniform', 'p': 1}. Best is trial 3 with value: 11.876776328605338.\n",
            "[I 2025-07-22 21:39:20,015] Trial 4 finished with value: 11.529305584128924 and parameters: {'n_neighbors': 11, 'weights': 'distance', 'p': 1}. Best is trial 4 with value: 11.529305584128924.\n",
            "[I 2025-07-22 21:39:20,071] Trial 5 finished with value: 11.684704961683604 and parameters: {'n_neighbors': 7, 'weights': 'distance', 'p': 2}. Best is trial 4 with value: 11.529305584128924.\n",
            "[I 2025-07-22 21:39:20,131] Trial 6 finished with value: 11.46242019128753 and parameters: {'n_neighbors': 8, 'weights': 'distance', 'p': 1}. Best is trial 6 with value: 11.46242019128753.\n",
            "[I 2025-07-22 21:39:20,189] Trial 7 finished with value: 11.69489128423429 and parameters: {'n_neighbors': 12, 'weights': 'distance', 'p': 2}. Best is trial 6 with value: 11.46242019128753.\n",
            "[I 2025-07-22 21:39:20,261] Trial 8 finished with value: 11.629427381345293 and parameters: {'n_neighbors': 20, 'weights': 'distance', 'p': 1}. Best is trial 6 with value: 11.46242019128753.\n",
            "[I 2025-07-22 21:39:20,316] Trial 9 finished with value: 11.783138168293789 and parameters: {'n_neighbors': 6, 'weights': 'uniform', 'p': 1}. Best is trial 6 with value: 11.46242019128753.\n",
            "[I 2025-07-22 21:39:20,389] Trial 10 finished with value: 11.598536772716352 and parameters: {'n_neighbors': 14, 'weights': 'distance', 'p': 1}. Best is trial 6 with value: 11.46242019128753.\n",
            "[I 2025-07-22 21:39:20,458] Trial 11 finished with value: 11.529305584128924 and parameters: {'n_neighbors': 11, 'weights': 'distance', 'p': 1}. Best is trial 6 with value: 11.46242019128753.\n",
            "[I 2025-07-22 21:39:20,526] Trial 12 finished with value: 11.515624480930345 and parameters: {'n_neighbors': 9, 'weights': 'distance', 'p': 1}. Best is trial 6 with value: 11.46242019128753.\n",
            "[I 2025-07-22 21:39:20,588] Trial 13 finished with value: 12.070263689349106 and parameters: {'n_neighbors': 3, 'weights': 'distance', 'p': 1}. Best is trial 6 with value: 11.46242019128753.\n",
            "[I 2025-07-22 21:39:20,657] Trial 14 finished with value: 11.46242019128753 and parameters: {'n_neighbors': 8, 'weights': 'distance', 'p': 1}. Best is trial 6 with value: 11.46242019128753.\n",
            "[I 2025-07-22 21:39:20,724] Trial 15 finished with value: 11.623381542186157 and parameters: {'n_neighbors': 6, 'weights': 'distance', 'p': 1}. Best is trial 6 with value: 11.46242019128753.\n",
            "[I 2025-07-22 21:39:20,794] Trial 16 finished with value: 11.46242019128753 and parameters: {'n_neighbors': 8, 'weights': 'distance', 'p': 1}. Best is trial 6 with value: 11.46242019128753.\n",
            "[I 2025-07-22 21:39:20,860] Trial 17 finished with value: 11.70816012502885 and parameters: {'n_neighbors': 5, 'weights': 'distance', 'p': 1}. Best is trial 6 with value: 11.46242019128753.\n",
            "[I 2025-07-22 21:39:20,932] Trial 18 finished with value: 11.848088572880702 and parameters: {'n_neighbors': 14, 'weights': 'uniform', 'p': 1}. Best is trial 6 with value: 11.46242019128753.\n",
            "[I 2025-07-22 21:39:21,003] Trial 19 finished with value: 11.568082040446479 and parameters: {'n_neighbors': 13, 'weights': 'distance', 'p': 1}. Best is trial 6 with value: 11.46242019128753.\n",
            "[I 2025-07-22 21:39:21,068] Trial 20 finished with value: 11.690562189917319 and parameters: {'n_neighbors': 9, 'weights': 'distance', 'p': 2}. Best is trial 6 with value: 11.46242019128753.\n",
            "[I 2025-07-22 21:39:21,138] Trial 21 finished with value: 11.46242019128753 and parameters: {'n_neighbors': 8, 'weights': 'distance', 'p': 1}. Best is trial 6 with value: 11.46242019128753.\n",
            "[I 2025-07-22 21:39:21,212] Trial 22 finished with value: 11.55482001729415 and parameters: {'n_neighbors': 10, 'weights': 'distance', 'p': 1}. Best is trial 6 with value: 11.46242019128753.\n",
            "[I 2025-07-22 21:39:21,302] Trial 23 finished with value: 11.540197088416914 and parameters: {'n_neighbors': 7, 'weights': 'distance', 'p': 1}. Best is trial 6 with value: 11.46242019128753.\n",
            "[I 2025-07-22 21:39:21,369] Trial 24 finished with value: 11.540197088416914 and parameters: {'n_neighbors': 7, 'weights': 'distance', 'p': 1}. Best is trial 6 with value: 11.46242019128753.\n",
            "[I 2025-07-22 21:39:21,434] Trial 25 finished with value: 11.70816012502885 and parameters: {'n_neighbors': 5, 'weights': 'distance', 'p': 1}. Best is trial 6 with value: 11.46242019128753.\n",
            "[I 2025-07-22 21:39:21,505] Trial 26 finished with value: 11.781849422510835 and parameters: {'n_neighbors': 10, 'weights': 'uniform', 'p': 1}. Best is trial 6 with value: 11.46242019128753.\n",
            "[I 2025-07-22 21:39:21,574] Trial 27 finished with value: 11.46242019128753 and parameters: {'n_neighbors': 8, 'weights': 'distance', 'p': 1}. Best is trial 6 with value: 11.46242019128753.\n",
            "[I 2025-07-22 21:39:21,639] Trial 28 finished with value: 11.931829942269722 and parameters: {'n_neighbors': 4, 'weights': 'distance', 'p': 1}. Best is trial 6 with value: 11.46242019128753.\n",
            "[I 2025-07-22 21:39:21,699] Trial 29 finished with value: 12.309862464775463 and parameters: {'n_neighbors': 3, 'weights': 'distance', 'p': 2}. Best is trial 6 with value: 11.46242019128753.\n",
            "[I 2025-07-22 21:39:21,769] Trial 30 finished with value: 11.548264767907392 and parameters: {'n_neighbors': 12, 'weights': 'distance', 'p': 1}. Best is trial 6 with value: 11.46242019128753.\n",
            "[I 2025-07-22 21:39:21,836] Trial 31 finished with value: 11.46242019128753 and parameters: {'n_neighbors': 8, 'weights': 'distance', 'p': 1}. Best is trial 6 with value: 11.46242019128753.\n",
            "[I 2025-07-22 21:39:21,906] Trial 32 finished with value: 11.46242019128753 and parameters: {'n_neighbors': 8, 'weights': 'distance', 'p': 1}. Best is trial 6 with value: 11.46242019128753.\n",
            "[I 2025-07-22 21:39:21,978] Trial 33 finished with value: 11.55482001729415 and parameters: {'n_neighbors': 10, 'weights': 'distance', 'p': 1}. Best is trial 6 with value: 11.46242019128753.\n",
            "[I 2025-07-22 21:39:22,046] Trial 34 finished with value: 11.783138168293789 and parameters: {'n_neighbors': 6, 'weights': 'uniform', 'p': 1}. Best is trial 6 with value: 11.46242019128753.\n",
            "[I 2025-07-22 21:39:22,113] Trial 35 finished with value: 11.515624480930345 and parameters: {'n_neighbors': 9, 'weights': 'distance', 'p': 1}. Best is trial 6 with value: 11.46242019128753.\n",
            "[I 2025-07-22 21:39:22,177] Trial 36 finished with value: 12.033250758791558 and parameters: {'n_neighbors': 5, 'weights': 'uniform', 'p': 2}. Best is trial 6 with value: 11.46242019128753.\n",
            "[I 2025-07-22 21:39:22,248] Trial 37 finished with value: 11.589105801372998 and parameters: {'n_neighbors': 16, 'weights': 'distance', 'p': 1}. Best is trial 6 with value: 11.46242019128753.\n",
            "[I 2025-07-22 21:39:22,329] Trial 38 finished with value: 11.684704961683604 and parameters: {'n_neighbors': 7, 'weights': 'distance', 'p': 2}. Best is trial 6 with value: 11.46242019128753.\n",
            "[I 2025-07-22 21:39:22,398] Trial 39 finished with value: 11.756786177463638 and parameters: {'n_neighbors': 11, 'weights': 'uniform', 'p': 1}. Best is trial 6 with value: 11.46242019128753.\n",
            "[I 2025-07-22 21:39:22,464] Trial 40 finished with value: 11.46242019128753 and parameters: {'n_neighbors': 8, 'weights': 'distance', 'p': 1}. Best is trial 6 with value: 11.46242019128753.\n",
            "[I 2025-07-22 21:39:22,531] Trial 41 finished with value: 11.46242019128753 and parameters: {'n_neighbors': 8, 'weights': 'distance', 'p': 1}. Best is trial 6 with value: 11.46242019128753.\n",
            "[I 2025-07-22 21:39:22,601] Trial 42 finished with value: 11.515624480930345 and parameters: {'n_neighbors': 9, 'weights': 'distance', 'p': 1}. Best is trial 6 with value: 11.46242019128753.\n",
            "[I 2025-07-22 21:39:22,670] Trial 43 finished with value: 11.540197088416914 and parameters: {'n_neighbors': 7, 'weights': 'distance', 'p': 1}. Best is trial 6 with value: 11.46242019128753.\n",
            "[I 2025-07-22 21:39:22,739] Trial 44 finished with value: 11.55482001729415 and parameters: {'n_neighbors': 10, 'weights': 'distance', 'p': 1}. Best is trial 6 with value: 11.46242019128753.\n",
            "[I 2025-07-22 21:39:22,812] Trial 45 finished with value: 11.623381542186157 and parameters: {'n_neighbors': 6, 'weights': 'distance', 'p': 1}. Best is trial 6 with value: 11.46242019128753.\n",
            "[I 2025-07-22 21:39:22,883] Trial 46 finished with value: 11.46242019128753 and parameters: {'n_neighbors': 8, 'weights': 'distance', 'p': 1}. Best is trial 6 with value: 11.46242019128753.\n",
            "[I 2025-07-22 21:39:22,954] Trial 47 finished with value: 11.548264767907392 and parameters: {'n_neighbors': 12, 'weights': 'distance', 'p': 1}. Best is trial 6 with value: 11.46242019128753.\n",
            "[I 2025-07-22 21:39:23,025] Trial 48 finished with value: 11.515624480930345 and parameters: {'n_neighbors': 9, 'weights': 'distance', 'p': 1}. Best is trial 6 with value: 11.46242019128753.\n",
            "[I 2025-07-22 21:39:23,099] Trial 49 finished with value: 11.898339251024472 and parameters: {'n_neighbors': 20, 'weights': 'uniform', 'p': 1}. Best is trial 6 with value: 11.46242019128753.\n"
          ]
        },
        {
          "output_type": "stream",
          "name": "stdout",
          "text": [
            "🎯 KNN - Mejor RMSE: 11.46242019128753\n",
            "🔧 Mejores parámetros: {'n_neighbors': 8, 'weights': 'distance', 'p': 1}\n"
          ]
        }
      ]
    },
    {
      "cell_type": "code",
      "source": [
        "# Optuna con Regresion Lineal\n",
        "\n",
        "# Se crear estudio\n",
        "estudio_lr = optuna.create_study(direction='minimize')\n",
        "\n",
        "# Se define  y evalua directamente con LinearRegression\n",
        "def ejecutar_trial_lr(trial):\n",
        "    modelo_rlO = Pipeline([\n",
        "        ('scaler', StandardScaler()),\n",
        "        ('lr', LinearRegression())\n",
        "    ])\n",
        "    puntajes = cross_val_score(modelo_rlO, X, y, cv=5, scoring='neg_root_mean_squared_error')\n",
        "    return -puntajes.mean()\n",
        "\n",
        "# Se ejecutar optimización\n",
        "estudio_lr.optimize(ejecutar_trial_lr, n_trials=1)\n",
        "\n",
        "# Se muestran los resultados\n",
        "print(\"RMSE promedio con LinearRegression:\", estudio_lr.best_value)"
      ],
      "metadata": {
        "colab": {
          "base_uri": "https://localhost:8080/"
        },
        "id": "mqkYD-13CNFA",
        "outputId": "403c61ef-2c0c-4437-9541-6c07993ed34f"
      },
      "execution_count": 80,
      "outputs": [
        {
          "output_type": "stream",
          "name": "stderr",
          "text": [
            "[I 2025-07-22 21:39:27,221] A new study created in memory with name: no-name-f4e996ab-51b1-4353-869a-8623cdc512be\n",
            "[I 2025-07-22 21:39:27,261] Trial 0 finished with value: 10.994165822549224 and parameters: {}. Best is trial 0 with value: 10.994165822549224.\n"
          ]
        },
        {
          "output_type": "stream",
          "name": "stdout",
          "text": [
            "RMSE promedio con LinearRegression: 10.994165822549224\n"
          ]
        }
      ]
    },
    {
      "cell_type": "markdown",
      "source": [
        "##Evaluación de Modelos Optimizados"
      ],
      "metadata": {
        "id": "JxAciAj3Fsb5"
      }
    },
    {
      "cell_type": "code",
      "source": [
        "# Se elige el mejor modelo que fue Random Forest\n",
        "\n",
        "modelo_rf_opt = RandomForestRegressor(\n",
        "    n_estimators=estudio_rf.best_params['n_estimators'],\n",
        "    max_depth=estudio_rf.best_params['max_depth'],\n",
        "    random_state=42\n",
        ")\n",
        "\n",
        "modelo_rf_opt.fit(X_train, y_train)\n",
        "y_pred_opt = modelo_rf_opt.predict(X_test)"
      ],
      "metadata": {
        "id": "twl4Ixn1Fwwt"
      },
      "execution_count": 92,
      "outputs": []
    },
    {
      "cell_type": "code",
      "source": [
        "# Optimizado\n",
        "rmse_opt = np.sqrt(mean_squared_error(y_test, y_pred_opt))\n",
        "r2_opt = r2_score(y_test, y_pred_opt)\n",
        "\n",
        "# Inicial\n",
        "rmse_inicial = np.sqrt(mean_squared_error(y_test, y_pred))\n",
        "r2_inicial = r2_score(y_test, y_pred)\n",
        "\n",
        "print(\"🔍 Comparativa de rendimiento:\")\n",
        "print(f\"Optimizado - RMSE: {rmse_opt:.2f} | R²: {r2_opt:.2f}\")\n",
        "print(f\"Inicial    - RMSE: {rmse_inicial:.2f} | R²: {r2_inicial:.2f}\")"
      ],
      "metadata": {
        "colab": {
          "base_uri": "https://localhost:8080/"
        },
        "id": "MMbBWjIzGbov",
        "outputId": "bdc262bd-3be5-43f5-c87a-275979a31a8a"
      },
      "execution_count": 94,
      "outputs": [
        {
          "output_type": "stream",
          "name": "stdout",
          "text": [
            "🔍 Comparativa de rendimiento:\n",
            "Optimizado - RMSE: 4.06 | R²: 0.93\n",
            "Inicial    - RMSE: 9.92 | R²: 0.56\n"
          ]
        }
      ]
    },
    {
      "cell_type": "markdown",
      "source": [
        "## Conslusion\n",
        "\n",
        "El R² subió de 0.56 a 0.93, lo que significa que ahora el modelo explica el 93% de la variabilidad de la resistencia del concreto. Esto representa un gran salto en calidad de ajuste.\n",
        "\n",
        "La mejora proviene del ajuste fino de n_estimators, max_depth, y otros hiperparámetros que permitieron al modelo capturar mejor las relaciones no lineales entre ingredientes y resistencia.\n",
        "\n",
        "El modelo optimizado con Random Forest y Optuna es claramente superior en precisión y capacidad de generalización tanto por rendimiento como por su robustez en validación cruzada."
      ],
      "metadata": {
        "id": "Kt9Bg7hQID3L"
      }
    }
  ]
}